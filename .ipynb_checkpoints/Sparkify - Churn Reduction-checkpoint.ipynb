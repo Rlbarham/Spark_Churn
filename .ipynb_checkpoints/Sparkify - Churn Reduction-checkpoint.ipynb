{
 "cells": [
  {
   "cell_type": "markdown",
   "metadata": {},
   "source": [
    "# Sparkify: Churn Reduction"
   ]
  },
  {
   "cell_type": "markdown",
   "metadata": {},
   "source": [
    "## 0. Overview"
   ]
  },
  {
   "cell_type": "markdown",
   "metadata": {},
   "source": [
    "This project focuses on a fictional music streaming service called 'Sparkify', which provides music streaming in a similar manner to services such as Spotify or Pandora.\n",
    "\n",
    "The project aims to identify customers who are most likely to quit using the service, and thereby target such customers to reduce churn. It makes use of a fictional but representative customer data set to do this. In many respects this problem (churn prediction and ultimately reduction) is a fairly classic data science use case, but this project aims to tackle the problem using Spark and its scalable ML capabilities. \n",
    "\n",
    "We'll follow a number of steps to tackle this project:\n",
    "- Load and perform initial cleaning of the dataset\n",
    "- Explore the data and attempt to identify useful features\n",
    "- Build features and prepare for modelling\n",
    "- Model the data and evaluate results\n",
    "\n",
    "We will test multiple predictive models to try and predict churn, and will use an f1 score to evaluate them (given we have an unbalanced data set, as is typical in churn reduction problems).\n",
    "\n",
    "The data in question takes the form of user logs. This workspace makes use of a small subset (128MB) of the full dataset available (12GB), and aims to prototype the models cheaply. The full dataset can be made use of separately in AWS. "
   ]
  },
  {
   "cell_type": "markdown",
   "metadata": {},
   "source": [
    "## 1. Set-up"
   ]
  },
  {
   "cell_type": "code",
   "execution_count": 304,
   "metadata": {},
   "outputs": [],
   "source": [
    "# import libraries\n",
    "import numpy as np\n",
    "import pandas as pd\n",
    "import matplotlib.pyplot as plt\n",
    "import seaborn as sns\n",
    "\n",
    "from pyspark.sql import SparkSession\n",
    "from pyspark.sql.functions import sum, avg, count, isnull, when\n",
    "from pyspark.sql.types import IntegerType\n",
    "from pyspark.ml.feature import StandardScaler, VectorAssembler\n",
    "from pyspark.ml.classification import LogisticRegression, RandomForestClassifier\n",
    "from pyspark.ml.tuning import CrossValidator, ParamGridBuilder, TrainValidationSplit\n",
    "from pyspark.ml.evaluation import MulticlassClassificationEvaluator, BinaryClassificationEvaluator"
   ]
  },
  {
   "cell_type": "code",
   "execution_count": 220,
   "metadata": {},
   "outputs": [],
   "source": [
    "# configure library settings\n",
    "pd.set_option('display.max_rows', 500)\n",
    "pd.set_option('display.max_columns', 100)\n",
    "pd.set_option('display.max_colwidth', 200)\n",
    "\n",
    "%matplotlib inline"
   ]
  },
  {
   "cell_type": "code",
   "execution_count": 221,
   "metadata": {},
   "outputs": [],
   "source": [
    "# create a Spark session\n",
    "spark = (SparkSession\n",
    "         .builder\n",
    "         .appName('Customer Churn')\n",
    "         .getOrCreate())"
   ]
  },
  {
   "cell_type": "markdown",
   "metadata": {},
   "source": [
    "## 2. Load and Clean Dataset"
   ]
  },
  {
   "cell_type": "markdown",
   "metadata": {},
   "source": [
    "Here we'll load the data, and perform some basic cleaning to prepare it for exploration. We begin by loading the initial data from a JSON file."
   ]
  },
  {
   "cell_type": "code",
   "execution_count": 222,
   "metadata": {},
   "outputs": [
    {
     "data": {
      "text/plain": [
       "DataFrame[artist: string, auth: string, firstName: string, gender: string, itemInSession: bigint, lastName: string, length: double, level: string, location: string, method: string, page: string, registration: bigint, sessionId: bigint, song: string, status: bigint, ts: bigint, userAgent: string, userId: string]"
      ]
     },
     "execution_count": 222,
     "metadata": {},
     "output_type": "execute_result"
    }
   ],
   "source": [
    "# create dataframe from log data and persist the rdd\n",
    "path = 'mini_sparkify_event_data.json'\n",
    "raw_logs_df = spark.read.json(path)\n",
    "raw_logs_df.persist()"
   ]
  },
  {
   "cell_type": "code",
   "execution_count": 223,
   "metadata": {},
   "outputs": [
    {
     "name": "stdout",
     "output_type": "stream",
     "text": [
      "root\n",
      " |-- artist: string (nullable = true)\n",
      " |-- auth: string (nullable = true)\n",
      " |-- firstName: string (nullable = true)\n",
      " |-- gender: string (nullable = true)\n",
      " |-- itemInSession: long (nullable = true)\n",
      " |-- lastName: string (nullable = true)\n",
      " |-- length: double (nullable = true)\n",
      " |-- level: string (nullable = true)\n",
      " |-- location: string (nullable = true)\n",
      " |-- method: string (nullable = true)\n",
      " |-- page: string (nullable = true)\n",
      " |-- registration: long (nullable = true)\n",
      " |-- sessionId: long (nullable = true)\n",
      " |-- song: string (nullable = true)\n",
      " |-- status: long (nullable = true)\n",
      " |-- ts: long (nullable = true)\n",
      " |-- userAgent: string (nullable = true)\n",
      " |-- userId: string (nullable = true)\n",
      "\n"
     ]
    }
   ],
   "source": [
    "# print schema\n",
    "raw_logs_df.printSchema()"
   ]
  },
  {
   "cell_type": "code",
   "execution_count": 224,
   "metadata": {},
   "outputs": [
    {
     "name": "stdout",
     "output_type": "stream",
     "text": [
      "(286500, 18)\n"
     ]
    }
   ],
   "source": [
    "# print shape of the dataframe\n",
    "print((raw_logs_df.count(), len(raw_logs_df.columns)))"
   ]
  },
  {
   "cell_type": "code",
   "execution_count": 225,
   "metadata": {},
   "outputs": [
    {
     "name": "stdout",
     "output_type": "stream",
     "text": [
      "+-----------------------------+---------+---------+------+-------------+--------+---------+-----+------------------------------+------+---------------+-------------+---------+------------------------------+------+-------------+---------------------------------------------------------------------------------------------------------------+------+\n",
      "|artist                       |auth     |firstName|gender|itemInSession|lastName|length   |level|location                      |method|page           |registration |sessionId|song                          |status|ts           |userAgent                                                                                                      |userId|\n",
      "+-----------------------------+---------+---------+------+-------------+--------+---------+-----+------------------------------+------+---------------+-------------+---------+------------------------------+------+-------------+---------------------------------------------------------------------------------------------------------------+------+\n",
      "|Martha Tilston               |Logged In|Colin    |M     |50           |Freeman |277.89016|paid |Bakersfield, CA               |PUT   |NextSong       |1538173362000|29       |Rockpools                     |200   |1538352117000|Mozilla/5.0 (Windows NT 6.1; WOW64; rv:31.0) Gecko/20100101 Firefox/31.0                                       |30    |\n",
      "|Five Iron Frenzy             |Logged In|Micah    |M     |79           |Long    |236.09424|free |Boston-Cambridge-Newton, MA-NH|PUT   |NextSong       |1538331630000|8        |Canada                        |200   |1538352180000|\"Mozilla/5.0 (Windows NT 6.1; WOW64) AppleWebKit/537.36 (KHTML, like Gecko) Chrome/37.0.2062.103 Safari/537.36\"|9     |\n",
      "|Adam Lambert                 |Logged In|Colin    |M     |51           |Freeman |282.8273 |paid |Bakersfield, CA               |PUT   |NextSong       |1538173362000|29       |Time For Miracles             |200   |1538352394000|Mozilla/5.0 (Windows NT 6.1; WOW64; rv:31.0) Gecko/20100101 Firefox/31.0                                       |30    |\n",
      "|Enigma                       |Logged In|Micah    |M     |80           |Long    |262.71302|free |Boston-Cambridge-Newton, MA-NH|PUT   |NextSong       |1538331630000|8        |Knocking On Forbidden Doors   |200   |1538352416000|\"Mozilla/5.0 (Windows NT 6.1; WOW64) AppleWebKit/537.36 (KHTML, like Gecko) Chrome/37.0.2062.103 Safari/537.36\"|9     |\n",
      "|Daft Punk                    |Logged In|Colin    |M     |52           |Freeman |223.60771|paid |Bakersfield, CA               |PUT   |NextSong       |1538173362000|29       |Harder Better Faster Stronger |200   |1538352676000|Mozilla/5.0 (Windows NT 6.1; WOW64; rv:31.0) Gecko/20100101 Firefox/31.0                                       |30    |\n",
      "|The All-American Rejects     |Logged In|Micah    |M     |81           |Long    |208.29995|free |Boston-Cambridge-Newton, MA-NH|PUT   |NextSong       |1538331630000|8        |Don't Leave Me                |200   |1538352678000|\"Mozilla/5.0 (Windows NT 6.1; WOW64) AppleWebKit/537.36 (KHTML, like Gecko) Chrome/37.0.2062.103 Safari/537.36\"|9     |\n",
      "|The Velvet Underground / Nico|Logged In|Micah    |M     |82           |Long    |260.46649|free |Boston-Cambridge-Newton, MA-NH|PUT   |NextSong       |1538331630000|8        |Run Run Run                   |200   |1538352886000|\"Mozilla/5.0 (Windows NT 6.1; WOW64) AppleWebKit/537.36 (KHTML, like Gecko) Chrome/37.0.2062.103 Safari/537.36\"|9     |\n",
      "|Starflyer 59                 |Logged In|Colin    |M     |53           |Freeman |185.44281|paid |Bakersfield, CA               |PUT   |NextSong       |1538173362000|29       |Passengers (Old Album Version)|200   |1538352899000|Mozilla/5.0 (Windows NT 6.1; WOW64; rv:31.0) Gecko/20100101 Firefox/31.0                                       |30    |\n",
      "|null                         |Logged In|Colin    |M     |54           |Freeman |null     |paid |Bakersfield, CA               |PUT   |Add to Playlist|1538173362000|29       |null                          |200   |1538352905000|Mozilla/5.0 (Windows NT 6.1; WOW64; rv:31.0) Gecko/20100101 Firefox/31.0                                       |30    |\n",
      "|Frumpies                     |Logged In|Colin    |M     |55           |Freeman |134.47791|paid |Bakersfield, CA               |PUT   |NextSong       |1538173362000|29       |Fuck Kitty                    |200   |1538353084000|Mozilla/5.0 (Windows NT 6.1; WOW64; rv:31.0) Gecko/20100101 Firefox/31.0                                       |30    |\n",
      "+-----------------------------+---------+---------+------+-------------+--------+---------+-----+------------------------------+------+---------------+-------------+---------+------------------------------+------+-------------+---------------------------------------------------------------------------------------------------------------+------+\n",
      "only showing top 10 rows\n",
      "\n"
     ]
    }
   ],
   "source": [
    "# print header to observe data\n",
    "raw_logs_df.show(10, truncate = False)"
   ]
  },
  {
   "cell_type": "code",
   "execution_count": 226,
   "metadata": {},
   "outputs": [
    {
     "data": {
      "text/html": [
       "<div>\n",
       "<style scoped>\n",
       "    .dataframe tbody tr th:only-of-type {\n",
       "        vertical-align: middle;\n",
       "    }\n",
       "\n",
       "    .dataframe tbody tr th {\n",
       "        vertical-align: top;\n",
       "    }\n",
       "\n",
       "    .dataframe thead th {\n",
       "        text-align: right;\n",
       "    }\n",
       "</style>\n",
       "<table border=\"1\" class=\"dataframe\">\n",
       "  <thead>\n",
       "    <tr style=\"text-align: right;\">\n",
       "      <th></th>\n",
       "      <th>artist</th>\n",
       "      <th>auth</th>\n",
       "      <th>firstName</th>\n",
       "      <th>gender</th>\n",
       "      <th>itemInSession</th>\n",
       "      <th>lastName</th>\n",
       "      <th>length</th>\n",
       "      <th>level</th>\n",
       "      <th>location</th>\n",
       "      <th>method</th>\n",
       "      <th>page</th>\n",
       "      <th>registration</th>\n",
       "      <th>sessionId</th>\n",
       "      <th>song</th>\n",
       "      <th>status</th>\n",
       "      <th>ts</th>\n",
       "      <th>userAgent</th>\n",
       "      <th>userId</th>\n",
       "    </tr>\n",
       "  </thead>\n",
       "  <tbody>\n",
       "    <tr>\n",
       "      <th>0</th>\n",
       "      <td>Martha Tilston</td>\n",
       "      <td>Logged In</td>\n",
       "      <td>Colin</td>\n",
       "      <td>M</td>\n",
       "      <td>50</td>\n",
       "      <td>Freeman</td>\n",
       "      <td>277.89016</td>\n",
       "      <td>paid</td>\n",
       "      <td>Bakersfield, CA</td>\n",
       "      <td>PUT</td>\n",
       "      <td>NextSong</td>\n",
       "      <td>1538173362000</td>\n",
       "      <td>29</td>\n",
       "      <td>Rockpools</td>\n",
       "      <td>200</td>\n",
       "      <td>1538352117000</td>\n",
       "      <td>Mozilla/5.0 (Windows NT 6.1; WOW64; rv:31.0) Gecko/20100101 Firefox/31.0</td>\n",
       "      <td>30</td>\n",
       "    </tr>\n",
       "    <tr>\n",
       "      <th>1</th>\n",
       "      <td>Five Iron Frenzy</td>\n",
       "      <td>Logged In</td>\n",
       "      <td>Micah</td>\n",
       "      <td>M</td>\n",
       "      <td>79</td>\n",
       "      <td>Long</td>\n",
       "      <td>236.09424</td>\n",
       "      <td>free</td>\n",
       "      <td>Boston-Cambridge-Newton, MA-NH</td>\n",
       "      <td>PUT</td>\n",
       "      <td>NextSong</td>\n",
       "      <td>1538331630000</td>\n",
       "      <td>8</td>\n",
       "      <td>Canada</td>\n",
       "      <td>200</td>\n",
       "      <td>1538352180000</td>\n",
       "      <td>\"Mozilla/5.0 (Windows NT 6.1; WOW64) AppleWebKit/537.36 (KHTML, like Gecko) Chrome/37.0.2062.103 Safari/537.36\"</td>\n",
       "      <td>9</td>\n",
       "    </tr>\n",
       "    <tr>\n",
       "      <th>2</th>\n",
       "      <td>Adam Lambert</td>\n",
       "      <td>Logged In</td>\n",
       "      <td>Colin</td>\n",
       "      <td>M</td>\n",
       "      <td>51</td>\n",
       "      <td>Freeman</td>\n",
       "      <td>282.82730</td>\n",
       "      <td>paid</td>\n",
       "      <td>Bakersfield, CA</td>\n",
       "      <td>PUT</td>\n",
       "      <td>NextSong</td>\n",
       "      <td>1538173362000</td>\n",
       "      <td>29</td>\n",
       "      <td>Time For Miracles</td>\n",
       "      <td>200</td>\n",
       "      <td>1538352394000</td>\n",
       "      <td>Mozilla/5.0 (Windows NT 6.1; WOW64; rv:31.0) Gecko/20100101 Firefox/31.0</td>\n",
       "      <td>30</td>\n",
       "    </tr>\n",
       "    <tr>\n",
       "      <th>3</th>\n",
       "      <td>Enigma</td>\n",
       "      <td>Logged In</td>\n",
       "      <td>Micah</td>\n",
       "      <td>M</td>\n",
       "      <td>80</td>\n",
       "      <td>Long</td>\n",
       "      <td>262.71302</td>\n",
       "      <td>free</td>\n",
       "      <td>Boston-Cambridge-Newton, MA-NH</td>\n",
       "      <td>PUT</td>\n",
       "      <td>NextSong</td>\n",
       "      <td>1538331630000</td>\n",
       "      <td>8</td>\n",
       "      <td>Knocking On Forbidden Doors</td>\n",
       "      <td>200</td>\n",
       "      <td>1538352416000</td>\n",
       "      <td>\"Mozilla/5.0 (Windows NT 6.1; WOW64) AppleWebKit/537.36 (KHTML, like Gecko) Chrome/37.0.2062.103 Safari/537.36\"</td>\n",
       "      <td>9</td>\n",
       "    </tr>\n",
       "    <tr>\n",
       "      <th>4</th>\n",
       "      <td>Daft Punk</td>\n",
       "      <td>Logged In</td>\n",
       "      <td>Colin</td>\n",
       "      <td>M</td>\n",
       "      <td>52</td>\n",
       "      <td>Freeman</td>\n",
       "      <td>223.60771</td>\n",
       "      <td>paid</td>\n",
       "      <td>Bakersfield, CA</td>\n",
       "      <td>PUT</td>\n",
       "      <td>NextSong</td>\n",
       "      <td>1538173362000</td>\n",
       "      <td>29</td>\n",
       "      <td>Harder Better Faster Stronger</td>\n",
       "      <td>200</td>\n",
       "      <td>1538352676000</td>\n",
       "      <td>Mozilla/5.0 (Windows NT 6.1; WOW64; rv:31.0) Gecko/20100101 Firefox/31.0</td>\n",
       "      <td>30</td>\n",
       "    </tr>\n",
       "    <tr>\n",
       "      <th>5</th>\n",
       "      <td>The All-American Rejects</td>\n",
       "      <td>Logged In</td>\n",
       "      <td>Micah</td>\n",
       "      <td>M</td>\n",
       "      <td>81</td>\n",
       "      <td>Long</td>\n",
       "      <td>208.29995</td>\n",
       "      <td>free</td>\n",
       "      <td>Boston-Cambridge-Newton, MA-NH</td>\n",
       "      <td>PUT</td>\n",
       "      <td>NextSong</td>\n",
       "      <td>1538331630000</td>\n",
       "      <td>8</td>\n",
       "      <td>Don't Leave Me</td>\n",
       "      <td>200</td>\n",
       "      <td>1538352678000</td>\n",
       "      <td>\"Mozilla/5.0 (Windows NT 6.1; WOW64) AppleWebKit/537.36 (KHTML, like Gecko) Chrome/37.0.2062.103 Safari/537.36\"</td>\n",
       "      <td>9</td>\n",
       "    </tr>\n",
       "    <tr>\n",
       "      <th>6</th>\n",
       "      <td>The Velvet Underground / Nico</td>\n",
       "      <td>Logged In</td>\n",
       "      <td>Micah</td>\n",
       "      <td>M</td>\n",
       "      <td>82</td>\n",
       "      <td>Long</td>\n",
       "      <td>260.46649</td>\n",
       "      <td>free</td>\n",
       "      <td>Boston-Cambridge-Newton, MA-NH</td>\n",
       "      <td>PUT</td>\n",
       "      <td>NextSong</td>\n",
       "      <td>1538331630000</td>\n",
       "      <td>8</td>\n",
       "      <td>Run Run Run</td>\n",
       "      <td>200</td>\n",
       "      <td>1538352886000</td>\n",
       "      <td>\"Mozilla/5.0 (Windows NT 6.1; WOW64) AppleWebKit/537.36 (KHTML, like Gecko) Chrome/37.0.2062.103 Safari/537.36\"</td>\n",
       "      <td>9</td>\n",
       "    </tr>\n",
       "    <tr>\n",
       "      <th>7</th>\n",
       "      <td>Starflyer 59</td>\n",
       "      <td>Logged In</td>\n",
       "      <td>Colin</td>\n",
       "      <td>M</td>\n",
       "      <td>53</td>\n",
       "      <td>Freeman</td>\n",
       "      <td>185.44281</td>\n",
       "      <td>paid</td>\n",
       "      <td>Bakersfield, CA</td>\n",
       "      <td>PUT</td>\n",
       "      <td>NextSong</td>\n",
       "      <td>1538173362000</td>\n",
       "      <td>29</td>\n",
       "      <td>Passengers (Old Album Version)</td>\n",
       "      <td>200</td>\n",
       "      <td>1538352899000</td>\n",
       "      <td>Mozilla/5.0 (Windows NT 6.1; WOW64; rv:31.0) Gecko/20100101 Firefox/31.0</td>\n",
       "      <td>30</td>\n",
       "    </tr>\n",
       "    <tr>\n",
       "      <th>8</th>\n",
       "      <td>None</td>\n",
       "      <td>Logged In</td>\n",
       "      <td>Colin</td>\n",
       "      <td>M</td>\n",
       "      <td>54</td>\n",
       "      <td>Freeman</td>\n",
       "      <td>NaN</td>\n",
       "      <td>paid</td>\n",
       "      <td>Bakersfield, CA</td>\n",
       "      <td>PUT</td>\n",
       "      <td>Add to Playlist</td>\n",
       "      <td>1538173362000</td>\n",
       "      <td>29</td>\n",
       "      <td>None</td>\n",
       "      <td>200</td>\n",
       "      <td>1538352905000</td>\n",
       "      <td>Mozilla/5.0 (Windows NT 6.1; WOW64; rv:31.0) Gecko/20100101 Firefox/31.0</td>\n",
       "      <td>30</td>\n",
       "    </tr>\n",
       "    <tr>\n",
       "      <th>9</th>\n",
       "      <td>Frumpies</td>\n",
       "      <td>Logged In</td>\n",
       "      <td>Colin</td>\n",
       "      <td>M</td>\n",
       "      <td>55</td>\n",
       "      <td>Freeman</td>\n",
       "      <td>134.47791</td>\n",
       "      <td>paid</td>\n",
       "      <td>Bakersfield, CA</td>\n",
       "      <td>PUT</td>\n",
       "      <td>NextSong</td>\n",
       "      <td>1538173362000</td>\n",
       "      <td>29</td>\n",
       "      <td>Fuck Kitty</td>\n",
       "      <td>200</td>\n",
       "      <td>1538353084000</td>\n",
       "      <td>Mozilla/5.0 (Windows NT 6.1; WOW64; rv:31.0) Gecko/20100101 Firefox/31.0</td>\n",
       "      <td>30</td>\n",
       "    </tr>\n",
       "  </tbody>\n",
       "</table>\n",
       "</div>"
      ],
      "text/plain": [
       "                          artist       auth firstName gender  itemInSession  \\\n",
       "0                 Martha Tilston  Logged In     Colin      M             50   \n",
       "1               Five Iron Frenzy  Logged In     Micah      M             79   \n",
       "2                   Adam Lambert  Logged In     Colin      M             51   \n",
       "3                         Enigma  Logged In     Micah      M             80   \n",
       "4                      Daft Punk  Logged In     Colin      M             52   \n",
       "5       The All-American Rejects  Logged In     Micah      M             81   \n",
       "6  The Velvet Underground / Nico  Logged In     Micah      M             82   \n",
       "7                   Starflyer 59  Logged In     Colin      M             53   \n",
       "8                           None  Logged In     Colin      M             54   \n",
       "9                       Frumpies  Logged In     Colin      M             55   \n",
       "\n",
       "  lastName     length level                        location method  \\\n",
       "0  Freeman  277.89016  paid                 Bakersfield, CA    PUT   \n",
       "1     Long  236.09424  free  Boston-Cambridge-Newton, MA-NH    PUT   \n",
       "2  Freeman  282.82730  paid                 Bakersfield, CA    PUT   \n",
       "3     Long  262.71302  free  Boston-Cambridge-Newton, MA-NH    PUT   \n",
       "4  Freeman  223.60771  paid                 Bakersfield, CA    PUT   \n",
       "5     Long  208.29995  free  Boston-Cambridge-Newton, MA-NH    PUT   \n",
       "6     Long  260.46649  free  Boston-Cambridge-Newton, MA-NH    PUT   \n",
       "7  Freeman  185.44281  paid                 Bakersfield, CA    PUT   \n",
       "8  Freeman        NaN  paid                 Bakersfield, CA    PUT   \n",
       "9  Freeman  134.47791  paid                 Bakersfield, CA    PUT   \n",
       "\n",
       "              page   registration  sessionId                            song  \\\n",
       "0         NextSong  1538173362000         29                       Rockpools   \n",
       "1         NextSong  1538331630000          8                          Canada   \n",
       "2         NextSong  1538173362000         29               Time For Miracles   \n",
       "3         NextSong  1538331630000          8     Knocking On Forbidden Doors   \n",
       "4         NextSong  1538173362000         29   Harder Better Faster Stronger   \n",
       "5         NextSong  1538331630000          8                  Don't Leave Me   \n",
       "6         NextSong  1538331630000          8                     Run Run Run   \n",
       "7         NextSong  1538173362000         29  Passengers (Old Album Version)   \n",
       "8  Add to Playlist  1538173362000         29                            None   \n",
       "9         NextSong  1538173362000         29                      Fuck Kitty   \n",
       "\n",
       "   status             ts  \\\n",
       "0     200  1538352117000   \n",
       "1     200  1538352180000   \n",
       "2     200  1538352394000   \n",
       "3     200  1538352416000   \n",
       "4     200  1538352676000   \n",
       "5     200  1538352678000   \n",
       "6     200  1538352886000   \n",
       "7     200  1538352899000   \n",
       "8     200  1538352905000   \n",
       "9     200  1538353084000   \n",
       "\n",
       "                                                                                                         userAgent  \\\n",
       "0                                         Mozilla/5.0 (Windows NT 6.1; WOW64; rv:31.0) Gecko/20100101 Firefox/31.0   \n",
       "1  \"Mozilla/5.0 (Windows NT 6.1; WOW64) AppleWebKit/537.36 (KHTML, like Gecko) Chrome/37.0.2062.103 Safari/537.36\"   \n",
       "2                                         Mozilla/5.0 (Windows NT 6.1; WOW64; rv:31.0) Gecko/20100101 Firefox/31.0   \n",
       "3  \"Mozilla/5.0 (Windows NT 6.1; WOW64) AppleWebKit/537.36 (KHTML, like Gecko) Chrome/37.0.2062.103 Safari/537.36\"   \n",
       "4                                         Mozilla/5.0 (Windows NT 6.1; WOW64; rv:31.0) Gecko/20100101 Firefox/31.0   \n",
       "5  \"Mozilla/5.0 (Windows NT 6.1; WOW64) AppleWebKit/537.36 (KHTML, like Gecko) Chrome/37.0.2062.103 Safari/537.36\"   \n",
       "6  \"Mozilla/5.0 (Windows NT 6.1; WOW64) AppleWebKit/537.36 (KHTML, like Gecko) Chrome/37.0.2062.103 Safari/537.36\"   \n",
       "7                                         Mozilla/5.0 (Windows NT 6.1; WOW64; rv:31.0) Gecko/20100101 Firefox/31.0   \n",
       "8                                         Mozilla/5.0 (Windows NT 6.1; WOW64; rv:31.0) Gecko/20100101 Firefox/31.0   \n",
       "9                                         Mozilla/5.0 (Windows NT 6.1; WOW64; rv:31.0) Gecko/20100101 Firefox/31.0   \n",
       "\n",
       "  userId  \n",
       "0     30  \n",
       "1      9  \n",
       "2     30  \n",
       "3      9  \n",
       "4     30  \n",
       "5      9  \n",
       "6      9  \n",
       "7     30  \n",
       "8     30  \n",
       "9     30  "
      ]
     },
     "execution_count": 226,
     "metadata": {},
     "output_type": "execute_result"
    }
   ],
   "source": [
    "# optionally, perform the same operation in a more readable format\n",
    "raw_logs_df.limit(10).toPandas().head(10)"
   ]
  },
  {
   "cell_type": "markdown",
   "metadata": {},
   "source": [
    "Next, we'll drop observations with null fields in key areas - notably User IDs or Session IDs. While we can make use of observations with missing values in other areas, we cannot do so when session IDs or user IDs are missing or invalid. Let's first print how many null fields are present in each."
   ]
  },
  {
   "cell_type": "code",
   "execution_count": 227,
   "metadata": {},
   "outputs": [
    {
     "data": {
      "text/plain": [
       "0"
      ]
     },
     "execution_count": 227,
     "metadata": {},
     "output_type": "execute_result"
    }
   ],
   "source": [
    "# print nulls for session ID\n",
    "raw_logs_df.filter(raw_logs_df['sessionId'].isNull()).count()"
   ]
  },
  {
   "cell_type": "code",
   "execution_count": 228,
   "metadata": {},
   "outputs": [
    {
     "data": {
      "text/plain": [
       "0"
      ]
     },
     "execution_count": 228,
     "metadata": {},
     "output_type": "execute_result"
    }
   ],
   "source": [
    "# print nulls for user ID\n",
    "raw_logs_df.filter(raw_logs_df['UserId'].isNull()).count()"
   ]
  },
  {
   "cell_type": "code",
   "execution_count": 229,
   "metadata": {},
   "outputs": [
    {
     "data": {
      "text/plain": [
       "0"
      ]
     },
     "execution_count": 229,
     "metadata": {},
     "output_type": "execute_result"
    }
   ],
   "source": [
    "# print blanks for session ID\n",
    "raw_logs_df.filter((raw_logs_df['sessionId'] == '')).count()"
   ]
  },
  {
   "cell_type": "code",
   "execution_count": 230,
   "metadata": {},
   "outputs": [
    {
     "data": {
      "text/plain": [
       "8346"
      ]
     },
     "execution_count": 230,
     "metadata": {},
     "output_type": "execute_result"
    }
   ],
   "source": [
    "# print blanks for user ID\n",
    "raw_logs_df.filter((raw_logs_df['UserId'] == '')).count()"
   ]
  },
  {
   "cell_type": "markdown",
   "metadata": {},
   "source": [
    "We can see from this that there in fact technically *aren't* null values for either of these fields. However, there *are* missing values for UserId, which amounts to the same thing in practice. We might speculate that these missing values reflect users who aren't logged into the service, or perhaps some other error in capturing IDs. In any case, we should drop these rows before moving on."
   ]
  },
  {
   "cell_type": "code",
   "execution_count": 231,
   "metadata": {},
   "outputs": [],
   "source": [
    "# remove blank userID rows\n",
    "cleaned_logs_df = raw_logs_df.filter(raw_logs_df['userId'] != '')"
   ]
  },
  {
   "cell_type": "code",
   "execution_count": 232,
   "metadata": {},
   "outputs": [
    {
     "name": "stdout",
     "output_type": "stream",
     "text": [
      "(278154, 18)\n"
     ]
    }
   ],
   "source": [
    "# print shape of the dataframe\n",
    "print((cleaned_logs_df.count(), len(cleaned_logs_df.columns)))"
   ]
  },
  {
   "cell_type": "code",
   "execution_count": 233,
   "metadata": {},
   "outputs": [
    {
     "name": "stdout",
     "output_type": "stream",
     "text": [
      "8346\n"
     ]
    }
   ],
   "source": [
    "# print removed rows\n",
    "print(raw_logs_df.count() - cleaned_logs_df.count())"
   ]
  },
  {
   "cell_type": "markdown",
   "metadata": {},
   "source": [
    "Our dataframe has reduced by the expected size, indicating that the cleaning was successful. For completeness, let's print nulls for all columns at this stage. "
   ]
  },
  {
   "cell_type": "code",
   "execution_count": 234,
   "metadata": {},
   "outputs": [
    {
     "name": "stdout",
     "output_type": "stream",
     "text": [
      "+------+----+---------+------+-------------+--------+------+-----+--------+------+----+------------+---------+-----+------+---+---------+------+\n",
      "|artist|auth|firstName|gender|itemInSession|lastName|length|level|location|method|page|registration|sessionId| song|status| ts|userAgent|userId|\n",
      "+------+----+---------+------+-------------+--------+------+-----+--------+------+----+------------+---------+-----+------+---+---------+------+\n",
      "| 50046|   0|        0|     0|            0|       0| 50046|    0|       0|     0|   0|           0|        0|50046|     0|  0|        0|     0|\n",
      "+------+----+---------+------+-------------+--------+------+-----+--------+------+----+------------+---------+-----+------+---+---------+------+\n",
      "\n"
     ]
    }
   ],
   "source": [
    "# print nulls across fields\n",
    "cleaned_logs_df.select([count(when(isnull(c), c)).alias(c) for c in cleaned_logs_df.columns]).show()"
   ]
  },
  {
   "cell_type": "markdown",
   "metadata": {},
   "source": [
    "We can see there are large numbers of nulls on artist, length, and song. These features all relate to the song being played specifically (as opposed to the user or the session), and it's not surprising they're missing for the same observations. At this stage, we'll leave these null observations in the data set, since the session data may still be usable (e.g. for assessment of customer behaviour for which specific song detail isn't required). "
   ]
  },
  {
   "cell_type": "markdown",
   "metadata": {},
   "source": [
    "## 3. Exploratory Data Analysis"
   ]
  },
  {
   "cell_type": "markdown",
   "metadata": {},
   "source": [
    "Let's now begin to do some EDA on the dataset. We'll first identify, define, and explore churn, before beginning to perform some initial analyses aimed at identifying features."
   ]
  },
  {
   "cell_type": "markdown",
   "metadata": {},
   "source": [
    "### 3.1 Define Churn"
   ]
  },
  {
   "cell_type": "code",
   "execution_count": 235,
   "metadata": {},
   "outputs": [
    {
     "name": "stdout",
     "output_type": "stream",
     "text": [
      "+--------------------+\n",
      "|                page|\n",
      "+--------------------+\n",
      "|              Cancel|\n",
      "|    Submit Downgrade|\n",
      "|         Thumbs Down|\n",
      "|                Home|\n",
      "|           Downgrade|\n",
      "|         Roll Advert|\n",
      "|              Logout|\n",
      "|       Save Settings|\n",
      "|Cancellation Conf...|\n",
      "|               About|\n",
      "|            Settings|\n",
      "|     Add to Playlist|\n",
      "|          Add Friend|\n",
      "|            NextSong|\n",
      "|           Thumbs Up|\n",
      "|                Help|\n",
      "|             Upgrade|\n",
      "|               Error|\n",
      "|      Submit Upgrade|\n",
      "+--------------------+\n",
      "\n"
     ]
    }
   ],
   "source": [
    "# print available pages visited in a session\n",
    "cleaned_logs_df.select('page').distinct().show()"
   ]
  },
  {
   "cell_type": "markdown",
   "metadata": {},
   "source": [
    "Having printed the available events that can affect a user, we'll define a user as having churned when we see a \"Cancellation Confirmation\" event. This event implies a user has actively aimed to cancel, and done so successfully - regardless of whether they are premium or free tier.\n",
    "\n",
    "We'll now establish a flag to capture these events. We'll do this by adding a pipeline to look for churned users and then append a flag to the dataframe when the relevant event is seen."
   ]
  },
  {
   "cell_type": "code",
   "execution_count": 236,
   "metadata": {},
   "outputs": [],
   "source": [
    "# return user IDs of users who have churned\n",
    "churn_flag_bucket = (cleaned_logs_df.filter(cleaned_logs_df.page == 'Cancellation Confirmation')\n",
    "                       .select('userId')\n",
    "                       .distinct()                        \n",
    "                       .rdd.flatMap(lambda x: x)\n",
    "                       .collect())"
   ]
  },
  {
   "cell_type": "code",
   "execution_count": 237,
   "metadata": {},
   "outputs": [],
   "source": [
    "# create column using this churn flag\n",
    "cleaned_logs_df = cleaned_logs_df.withColumn\\\n",
    "                ('Churn_Flag', when(cleaned_logs_df.userId.isin(churn_flag_bucket), 1).otherwise(0))"
   ]
  },
  {
   "cell_type": "markdown",
   "metadata": {},
   "source": [
    "We can see in the dataframe header below that we have successfully identified some churned users in our dataframe."
   ]
  },
  {
   "cell_type": "code",
   "execution_count": 238,
   "metadata": {},
   "outputs": [
    {
     "name": "stdout",
     "output_type": "stream",
     "text": [
      "+------+----------+\n",
      "|userId|Churn_Flag|\n",
      "+------+----------+\n",
      "|    30|         0|\n",
      "|     9|         0|\n",
      "|    30|         0|\n",
      "|     9|         0|\n",
      "|    30|         0|\n",
      "|     9|         0|\n",
      "|     9|         0|\n",
      "|    30|         0|\n",
      "|    30|         0|\n",
      "|    30|         0|\n",
      "|     9|         0|\n",
      "|     9|         0|\n",
      "|    30|         0|\n",
      "|     9|         0|\n",
      "|     9|         0|\n",
      "|    30|         0|\n",
      "|     9|         0|\n",
      "|    74|         0|\n",
      "|    30|         0|\n",
      "|     9|         0|\n",
      "|    74|         0|\n",
      "|    30|         0|\n",
      "|    54|         1|\n",
      "|     9|         0|\n",
      "|    74|         0|\n",
      "|    30|         0|\n",
      "|    54|         1|\n",
      "|     9|         0|\n",
      "|    74|         0|\n",
      "|    30|         0|\n",
      "|    54|         1|\n",
      "|     9|         0|\n",
      "|    30|         0|\n",
      "|    74|         0|\n",
      "|    54|         1|\n",
      "|    54|         1|\n",
      "|    30|         0|\n",
      "|     9|         0|\n",
      "|    30|         0|\n",
      "|    54|         1|\n",
      "|    74|         0|\n",
      "|     9|         0|\n",
      "|    74|         0|\n",
      "|    54|         1|\n",
      "|    54|         1|\n",
      "|    30|         0|\n",
      "|     9|         0|\n",
      "|     9|         0|\n",
      "|    74|         0|\n",
      "|    30|         0|\n",
      "|     9|         0|\n",
      "|     9|         0|\n",
      "|     9|         0|\n",
      "|     9|         0|\n",
      "|    74|         0|\n",
      "|    30|         0|\n",
      "|    74|         0|\n",
      "|     9|         0|\n",
      "|     9|         0|\n",
      "|    30|         0|\n",
      "|    74|         0|\n",
      "|     9|         0|\n",
      "|    74|         0|\n",
      "|     9|         0|\n",
      "|    30|         0|\n",
      "|    74|         0|\n",
      "|    30|         0|\n",
      "|    30|         0|\n",
      "|    74|         0|\n",
      "|     9|         0|\n",
      "|     4|         0|\n",
      "|     4|         0|\n",
      "|     4|         0|\n",
      "|    30|         0|\n",
      "|    74|         0|\n",
      "|    74|         0|\n",
      "|    74|         0|\n",
      "|     4|         0|\n",
      "|    30|         0|\n",
      "|     9|         0|\n",
      "|     4|         0|\n",
      "|    74|         0|\n",
      "|    74|         0|\n",
      "|     4|         0|\n",
      "|     9|         0|\n",
      "|     9|         0|\n",
      "|    30|         0|\n",
      "|     4|         0|\n",
      "|    74|         0|\n",
      "|     9|         0|\n",
      "|    30|         0|\n",
      "|     4|         0|\n",
      "|    74|         0|\n",
      "|     9|         0|\n",
      "|    30|         0|\n",
      "|    30|         0|\n",
      "|     4|         0|\n",
      "|     9|         0|\n",
      "|    74|         0|\n",
      "|    74|         0|\n",
      "+------+----------+\n",
      "only showing top 100 rows\n",
      "\n"
     ]
    }
   ],
   "source": [
    "# print list of entries to observe churn flag \n",
    "cleaned_logs_df.select(['userId', 'Churn_Flag']).show(100)"
   ]
  },
  {
   "cell_type": "markdown",
   "metadata": {},
   "source": [
    "In case it proves useful later on in our analysis, we'll also add a flag for downgrade events."
   ]
  },
  {
   "cell_type": "code",
   "execution_count": 239,
   "metadata": {},
   "outputs": [],
   "source": [
    "# return user IDs of users who have downgraded\n",
    "downgrade_flag_bucket = (cleaned_logs_df.filter(cleaned_logs_df.page == 'Submit Downgrade')\n",
    "                       .select('userId')\n",
    "                       .distinct()                        \n",
    "                       .rdd.flatMap(lambda x: x)\n",
    "                       .collect())"
   ]
  },
  {
   "cell_type": "code",
   "execution_count": 240,
   "metadata": {},
   "outputs": [],
   "source": [
    "# create column using downgrade flag\n",
    "cleaned_logs_df = cleaned_logs_df.withColumn\\\n",
    "                ('Downgrade_Flag', when(cleaned_logs_df.userId.isin(downgrade_flag_bucket), 1).otherwise(0))"
   ]
  },
  {
   "cell_type": "code",
   "execution_count": 241,
   "metadata": {},
   "outputs": [
    {
     "name": "stdout",
     "output_type": "stream",
     "text": [
      "+------+----------+--------------+\n",
      "|userId|Churn_Flag|Downgrade_Flag|\n",
      "+------+----------+--------------+\n",
      "|    30|         0|             1|\n",
      "|     9|         0|             1|\n",
      "|    30|         0|             1|\n",
      "|     9|         0|             1|\n",
      "|    30|         0|             1|\n",
      "|     9|         0|             1|\n",
      "|     9|         0|             1|\n",
      "|    30|         0|             1|\n",
      "|    30|         0|             1|\n",
      "|    30|         0|             1|\n",
      "|     9|         0|             1|\n",
      "|     9|         0|             1|\n",
      "|    30|         0|             1|\n",
      "|     9|         0|             1|\n",
      "|     9|         0|             1|\n",
      "|    30|         0|             1|\n",
      "|     9|         0|             1|\n",
      "|    74|         0|             1|\n",
      "|    30|         0|             1|\n",
      "|     9|         0|             1|\n",
      "|    74|         0|             1|\n",
      "|    30|         0|             1|\n",
      "|    54|         1|             1|\n",
      "|     9|         0|             1|\n",
      "|    74|         0|             1|\n",
      "|    30|         0|             1|\n",
      "|    54|         1|             1|\n",
      "|     9|         0|             1|\n",
      "|    74|         0|             1|\n",
      "|    30|         0|             1|\n",
      "|    54|         1|             1|\n",
      "|     9|         0|             1|\n",
      "|    30|         0|             1|\n",
      "|    74|         0|             1|\n",
      "|    54|         1|             1|\n",
      "|    54|         1|             1|\n",
      "|    30|         0|             1|\n",
      "|     9|         0|             1|\n",
      "|    30|         0|             1|\n",
      "|    54|         1|             1|\n",
      "|    74|         0|             1|\n",
      "|     9|         0|             1|\n",
      "|    74|         0|             1|\n",
      "|    54|         1|             1|\n",
      "|    54|         1|             1|\n",
      "|    30|         0|             1|\n",
      "|     9|         0|             1|\n",
      "|     9|         0|             1|\n",
      "|    74|         0|             1|\n",
      "|    30|         0|             1|\n",
      "|     9|         0|             1|\n",
      "|     9|         0|             1|\n",
      "|     9|         0|             1|\n",
      "|     9|         0|             1|\n",
      "|    74|         0|             1|\n",
      "|    30|         0|             1|\n",
      "|    74|         0|             1|\n",
      "|     9|         0|             1|\n",
      "|     9|         0|             1|\n",
      "|    30|         0|             1|\n",
      "|    74|         0|             1|\n",
      "|     9|         0|             1|\n",
      "|    74|         0|             1|\n",
      "|     9|         0|             1|\n",
      "|    30|         0|             1|\n",
      "|    74|         0|             1|\n",
      "|    30|         0|             1|\n",
      "|    30|         0|             1|\n",
      "|    74|         0|             1|\n",
      "|     9|         0|             1|\n",
      "|     4|         0|             0|\n",
      "|     4|         0|             0|\n",
      "|     4|         0|             0|\n",
      "|    30|         0|             1|\n",
      "|    74|         0|             1|\n",
      "|    74|         0|             1|\n",
      "|    74|         0|             1|\n",
      "|     4|         0|             0|\n",
      "|    30|         0|             1|\n",
      "|     9|         0|             1|\n",
      "|     4|         0|             0|\n",
      "|    74|         0|             1|\n",
      "|    74|         0|             1|\n",
      "|     4|         0|             0|\n",
      "|     9|         0|             1|\n",
      "|     9|         0|             1|\n",
      "|    30|         0|             1|\n",
      "|     4|         0|             0|\n",
      "|    74|         0|             1|\n",
      "|     9|         0|             1|\n",
      "|    30|         0|             1|\n",
      "|     4|         0|             0|\n",
      "|    74|         0|             1|\n",
      "|     9|         0|             1|\n",
      "|    30|         0|             1|\n",
      "|    30|         0|             1|\n",
      "|     4|         0|             0|\n",
      "|     9|         0|             1|\n",
      "|    74|         0|             1|\n",
      "|    74|         0|             1|\n",
      "+------+----------+--------------+\n",
      "only showing top 100 rows\n",
      "\n"
     ]
    }
   ],
   "source": [
    "# print list of entries to observe churn flag \n",
    "cleaned_logs_df.select(['userId', 'Churn_Flag', 'Downgrade_Flag']).show(100)"
   ]
  },
  {
   "cell_type": "markdown",
   "metadata": {},
   "source": [
    "Before moving on, let's review how large the pool of churned customers is. "
   ]
  },
  {
   "cell_type": "code",
   "execution_count": 242,
   "metadata": {},
   "outputs": [
    {
     "name": "stdout",
     "output_type": "stream",
     "text": [
      "+----------+-----+\n",
      "|Churn_Flag|count|\n",
      "+----------+-----+\n",
      "|         1|   52|\n",
      "|         0|  173|\n",
      "+----------+-----+\n",
      "\n"
     ]
    }
   ],
   "source": [
    "# show churn numbers in tabular format\n",
    "churn_summary = cleaned_logs_df.dropDuplicates(['userId']).groupby(['Churn_Flag']).count()\n",
    "churn_summary.show()"
   ]
  },
  {
   "cell_type": "code",
   "execution_count": 243,
   "metadata": {},
   "outputs": [
    {
     "data": {
      "text/plain": [
       "<BarContainer object of 2 artists>"
      ]
     },
     "execution_count": 243,
     "metadata": {},
     "output_type": "execute_result"
    },
    {
     "data": {
      "image/png": "[encoded data removed]",
      "text/plain": [
       "<Figure size 432x288 with 1 Axes>"
      ]
     },
     "metadata": {
      "needs_background": "light"
     },
     "output_type": "display_data"
    }
   ],
   "source": [
    "# show churn numbers in a simple bar charts\n",
    "churn_accounts = churn_summary.select('count').collect()[0][0]\n",
    "non_churn_accounts = churn_summary.select('count').collect()[1][0]\n",
    "\n",
    "N = 2\n",
    "churn_values = (churn_accounts, non_churn_accounts)\n",
    "ind = np.arange(N)\n",
    "width = 0.35\n",
    "plt.title('Churned and non-churning accounts')\n",
    "plt.yticks(ind + width, ('Churn', 'Non-Churn'))\n",
    "plt.xlabel('# Accounts')\n",
    "plt.barh(ind, churn_values)"
   ]
  },
  {
   "cell_type": "markdown",
   "metadata": {},
   "source": [
    "We can see that almost a quarter of the accounts in the data set have churned - quite a high proportion. Let's now explore potential causes of this further."
   ]
  },
  {
   "cell_type": "code",
   "execution_count": 244,
   "metadata": {},
   "outputs": [],
   "source": [
    "# save new dataframe for further exploration of data\n",
    "logs_df = cleaned_logs_df"
   ]
  },
  {
   "cell_type": "markdown",
   "metadata": {},
   "source": [
    "### 3.2 Explore Data"
   ]
  },
  {
   "cell_type": "markdown",
   "metadata": {},
   "source": [
    "Now that we've defined a churn measure, we'll perform some exploratory data analysis to build intuition on what features might be predictive of churn.\n",
    "\n",
    "We'll use insights from this exercise to inform our feature selection later on. "
   ]
  },
  {
   "cell_type": "markdown",
   "metadata": {},
   "source": [
    "To recap, we saw a number of interaction attributes earlier on (re-pasted below). We'll consider these as well as relevant information about users (e.g. gender)."
   ]
  },
  {
   "cell_type": "code",
   "execution_count": 245,
   "metadata": {},
   "outputs": [
    {
     "name": "stdout",
     "output_type": "stream",
     "text": [
      "+--------------------+\n",
      "|                page|\n",
      "+--------------------+\n",
      "|              Cancel|\n",
      "|    Submit Downgrade|\n",
      "|         Thumbs Down|\n",
      "|                Home|\n",
      "|           Downgrade|\n",
      "|         Roll Advert|\n",
      "|              Logout|\n",
      "|       Save Settings|\n",
      "|Cancellation Conf...|\n",
      "|               About|\n",
      "|            Settings|\n",
      "|     Add to Playlist|\n",
      "|          Add Friend|\n",
      "|            NextSong|\n",
      "|           Thumbs Up|\n",
      "|                Help|\n",
      "|             Upgrade|\n",
      "|               Error|\n",
      "|      Submit Upgrade|\n",
      "+--------------------+\n",
      "\n"
     ]
    }
   ],
   "source": [
    "# print potential page interactions\n",
    "logs_df.select('page').dropDuplicates().show()"
   ]
  },
  {
   "cell_type": "markdown",
   "metadata": {},
   "source": [
    "#### 3.2.1 Number of songs played"
   ]
  },
  {
   "cell_type": "code",
   "execution_count": 246,
   "metadata": {},
   "outputs": [
    {
     "name": "stdout",
     "output_type": "stream",
     "text": [
      "+----------+------------------+\n",
      "|Churn_Flag|  avg(count(song))|\n",
      "+----------+------------------+\n",
      "|         1| 699.8846153846154|\n",
      "|         0|1108.1734104046243|\n",
      "+----------+------------------+\n",
      "\n"
     ]
    }
   ],
   "source": [
    "# print songs played by churn category\n",
    "logs_df.select('userId', 'Churn_Flag', 'song').groupby('userId', 'Churn_Flag').agg({'song':'count'})\\\n",
    "            .groupby('Churn_Flag').agg({'count(song)':'avg'}).show()"
   ]
  },
  {
   "cell_type": "markdown",
   "metadata": {},
   "source": [
    "The difference in song counts between churning and non-churning users is quite material, and suggests this is a feature worth considering."
   ]
  },
  {
   "cell_type": "markdown",
   "metadata": {},
   "source": [
    "#### 3.2.2 Songs added to playlist"
   ]
  },
  {
   "cell_type": "code",
   "execution_count": 247,
   "metadata": {},
   "outputs": [
    {
     "name": "stdout",
     "output_type": "stream",
     "text": [
      "+----------+-----------------+\n",
      "|Churn_Flag| avg(count(page))|\n",
      "+----------+-----------------+\n",
      "|         1|            20.76|\n",
      "|         0|33.26060606060606|\n",
      "+----------+-----------------+\n",
      "\n"
     ]
    }
   ],
   "source": [
    "# print songs added to playlist by churn category\n",
    "logs_df.select('userId', 'Churn_Flag', 'page').where(logs_df['page']=='Add to Playlist')\\\n",
    "        .groupby('userId', 'Churn_Flag').agg({'page':'count'}).groupby('Churn_Flag').agg({'count(page)':'avg'}).show()"
   ]
  },
  {
   "cell_type": "markdown",
   "metadata": {},
   "source": [
    "As perhaps expected, churned users tend to have added fewer songs to the playlist on average. This suggests that such users may be less engaged, and implies this is a useful variable to include in our analysis."
   ]
  },
  {
   "cell_type": "markdown",
   "metadata": {},
   "source": [
    "#### 3.2.3 Sentiment: Thumbs up or thumbs down"
   ]
  },
  {
   "cell_type": "code",
   "execution_count": 248,
   "metadata": {},
   "outputs": [],
   "source": [
    "# build dataframe for thumbs up entries\n",
    "thumbs_up_df = logs_df.select('userId', 'Churn_Flag', 'page').where(logs_df['page']=='Thumbs Up')\\\n",
    "        .groupby('userId', 'Churn_Flag').agg({'page':'count'}).groupby('Churn_Flag').agg({'count(page)':'avg'})\\\n",
    "        .withColumnRenamed('avg(count(page))', 'Thumbs up average')"
   ]
  },
  {
   "cell_type": "code",
   "execution_count": 249,
   "metadata": {},
   "outputs": [],
   "source": [
    "# build dataframe for thumbs down entries\n",
    "thumbs_down_df = logs_df.select('userId', 'Churn_Flag', 'page').where(logs_df['page']=='Thumbs Down')\\\n",
    "        .groupby('userId', 'Churn_Flag').agg({'page':'count'}).groupby('Churn_Flag').agg({'count(page)':'avg'})\\\n",
    "        .withColumnRenamed('avg(count(page))', 'Thumbs down average')"
   ]
  },
  {
   "cell_type": "code",
   "execution_count": 250,
   "metadata": {},
   "outputs": [
    {
     "name": "stdout",
     "output_type": "stream",
     "text": [
      "+----------+-----------------+-------------------+\n",
      "|Churn_Flag|Thumbs up average|Thumbs down average|\n",
      "+----------+-----------------+-------------------+\n",
      "|         1|            37.18| 10.333333333333334|\n",
      "|         0|62.89411764705882| 13.225806451612904|\n",
      "+----------+-----------------+-------------------+\n",
      "\n"
     ]
    }
   ],
   "source": [
    "# print thumbs up and thumbs down by churn category\n",
    "thumbs_up_df.join(thumbs_down_df, 'Churn_Flag').show()"
   ]
  },
  {
   "cell_type": "markdown",
   "metadata": {},
   "source": [
    "Observationally, it looks as if churning users are more likely to express negative sentiment here. About 21% of the total 'thumbs' are 'thumbs down' for churning users. Meanwhile, the same number is about 19% for non-churning users. "
   ]
  },
  {
   "cell_type": "markdown",
   "metadata": {},
   "source": [
    "#### 3.2.4 Social activity: Adding friends"
   ]
  },
  {
   "cell_type": "markdown",
   "metadata": {},
   "source": [
    "Adding friends is one signifier of how engaged someone is with the service. Let's use this now to identify whether this appears associated with churned accounts."
   ]
  },
  {
   "cell_type": "code",
   "execution_count": 251,
   "metadata": {},
   "outputs": [
    {
     "name": "stdout",
     "output_type": "stream",
     "text": [
      "+----------+------------------+\n",
      "|Churn_Flag|  avg(count(page))|\n",
      "+----------+------------------+\n",
      "|         1|14.454545454545455|\n",
      "|         0| 22.47530864197531|\n",
      "+----------+------------------+\n",
      "\n"
     ]
    }
   ],
   "source": [
    "# print adding friend count averages by churn category\n",
    "logs_df.select('userId', 'Churn_Flag', 'page').where(logs_df['page']=='Add Friend')\\\n",
    "        .groupby('userId','Churn_Flag').agg({'page':'count'}).groupby('Churn_Flag').agg({'count(page)':'avg'}).show()"
   ]
  },
  {
   "cell_type": "markdown",
   "metadata": {},
   "source": [
    "Churning users seem distinctly less social on the platform than non-churning users. As with songs added to playlist, this potentially indicates that such users are less engaged with the platform. It appears to be a useful predictor of churn and should be included in our model later on."
   ]
  },
  {
   "cell_type": "markdown",
   "metadata": {},
   "source": [
    "#### 3.2.5 Gender differences"
   ]
  },
  {
   "cell_type": "markdown",
   "metadata": {},
   "source": [
    "It's possible gender could have an impact on churn - perhaps men have a higher propensity to churn, or vice versa.. We therefore look to explore this variable too."
   ]
  },
  {
   "cell_type": "code",
   "execution_count": 252,
   "metadata": {},
   "outputs": [
    {
     "name": "stdout",
     "output_type": "stream",
     "text": [
      "+------+----------+-----+\n",
      "|gender|Churn_Flag|count|\n",
      "+------+----------+-----+\n",
      "|     M|         1|   32|\n",
      "|     F|         0|   84|\n",
      "|     F|         1|   20|\n",
      "|     M|         0|   89|\n",
      "+------+----------+-----+\n",
      "\n"
     ]
    }
   ],
   "source": [
    "# print gender by churn types\n",
    "gender_churn_summary = logs_df.dropDuplicates(['userId']).groupby(['gender', 'Churn_Flag']).count()\n",
    "gender_churn_summary.show()"
   ]
  },
  {
   "cell_type": "code",
   "execution_count": 253,
   "metadata": {},
   "outputs": [],
   "source": [
    "# save down values\n",
    "male_churn = gender_churn_summary.select('count').collect()[0][0]\n",
    "male_non_churn = gender_churn_summary.select('count').collect()[3][0]\n",
    "female_churn = gender_churn_summary.select('count').collect()[2][0]\n",
    "female_non_churn = gender_churn_summary.select('count').collect()[1][0]\n",
    "\n",
    "male_total = male_churn + male_non_churn\n",
    "female_total = female_churn + female_non_churn"
   ]
  },
  {
   "cell_type": "code",
   "execution_count": 254,
   "metadata": {},
   "outputs": [
    {
     "name": "stdout",
     "output_type": "stream",
     "text": [
      "Male churn rate: 0.2644628099173554\n",
      "Female churn rate:  0.19230769230769232\n"
     ]
    }
   ],
   "source": [
    "# print churn rates\n",
    "print(\"Male churn rate:\", male_churn / male_total)\n",
    "print(\"Female churn rate: \", female_churn / female_total)"
   ]
  },
  {
   "cell_type": "code",
   "execution_count": 255,
   "metadata": {},
   "outputs": [
    {
     "data": {
      "text/plain": [
       "Text(0.5, 1.0, 'Churn rate by gender')"
      ]
     },
     "execution_count": 255,
     "metadata": {},
     "output_type": "execute_result"
    },
    {
     "data": {
      "image/png": "[encoded data removed]",
      "text/plain": [
       "<Figure size 432x288 with 1 Axes>"
      ]
     },
     "metadata": {
      "needs_background": "light"
     },
     "output_type": "display_data"
    }
   ],
   "source": [
    "# visualise churn by gender\n",
    "gender_churn_df = logs_df.select('userId','gender','Churn_Flag').dropDuplicates().toPandas()\n",
    "sns.countplot(x='gender',hue='Churn_Flag',data=gender_churn_df)\n",
    "plt.xlabel(\"Gender\")\n",
    "plt.ylabel(\"Count of users\")\n",
    "plt.title(\"Churn rate by gender\")"
   ]
  },
  {
   "cell_type": "markdown",
   "metadata": {},
   "source": [
    "We can see from this that more male customers in the data sample churn more often than female customers (~26% vs ~19%). This suggests that gender will also be a useful feature to include in our assessment."
   ]
  },
  {
   "cell_type": "markdown",
   "metadata": {},
   "source": [
    "We've now explored a number of potentially interesting features, and have built some intuition on our data set that will be useful as we move onto modelling."
   ]
  },
  {
   "cell_type": "markdown",
   "metadata": {},
   "source": [
    "## 4. Feature Engineering"
   ]
  },
  {
   "cell_type": "markdown",
   "metadata": {},
   "source": [
    "In this section we'll aim to build out features that will be useful to train the model on, based on the preceding exploration. \n",
    "\n",
    "To do this, we'll write code to extract features from this small subset of the data."
   ]
  },
  {
   "cell_type": "markdown",
   "metadata": {},
   "source": [
    "We'll make use of seven features here, based on our exploration above:\n",
    "- Total Number of songs played\n",
    "- Average number of songs played per session\n",
    "- Number of songs added to playlist\n",
    "- Thumb up\n",
    "- Thumbs down\n",
    "- Number of friends added\n",
    "- Gender"
   ]
  },
  {
   "cell_type": "markdown",
   "metadata": {},
   "source": [
    "#### 4.1 Number of songs played"
   ]
  },
  {
   "cell_type": "code",
   "execution_count": 256,
   "metadata": {},
   "outputs": [],
   "source": [
    "# build songs played feature\n",
    "feature_1 = logs_df.where('page == \"NextSong\"').groupby(['userId']).count()\\\n",
    "    .groupby(['userId']).agg({'count':'avg'}).withColumnRenamed('avg(count)', 'Songs played')"
   ]
  },
  {
   "cell_type": "code",
   "execution_count": 257,
   "metadata": {},
   "outputs": [
    {
     "name": "stdout",
     "output_type": "stream",
     "text": [
      "+-------+------------------+\n",
      "|summary|      Songs played|\n",
      "+-------+------------------+\n",
      "|  count|               225|\n",
      "|   mean|1013.8133333333334|\n",
      "| stddev|1104.9607785540886|\n",
      "|    min|               3.0|\n",
      "|    max|            8002.0|\n",
      "+-------+------------------+\n",
      "\n"
     ]
    }
   ],
   "source": [
    "# print songs played feature summary\n",
    "feature_1.describe('Songs played').show()"
   ]
  },
  {
   "cell_type": "markdown",
   "metadata": {},
   "source": [
    "#### 4.2 Songs played per session"
   ]
  },
  {
   "cell_type": "code",
   "execution_count": 258,
   "metadata": {},
   "outputs": [],
   "source": [
    "# build songs played per session feature\n",
    "feature_2 = logs_df.where('page == \"NextSong\"').groupby(['userId', 'sessionId']).count() \\\n",
    "    .groupby(['userId']).agg({'count':'avg'}).withColumnRenamed('avg(count)', 'Songs per session')"
   ]
  },
  {
   "cell_type": "code",
   "execution_count": 259,
   "metadata": {},
   "outputs": [
    {
     "name": "stdout",
     "output_type": "stream",
     "text": [
      "+-------+-----------------+\n",
      "|summary|Songs per session|\n",
      "+-------+-----------------+\n",
      "|  count|              225|\n",
      "|   mean|70.78971233958933|\n",
      "| stddev| 42.6153697543817|\n",
      "|    min|              3.0|\n",
      "|    max|286.6666666666667|\n",
      "+-------+-----------------+\n",
      "\n"
     ]
    }
   ],
   "source": [
    "# print songs played per session feature summary\n",
    "feature_2.describe('Songs per session').show()"
   ]
  },
  {
   "cell_type": "markdown",
   "metadata": {},
   "source": [
    "#### 4.3 Songs added to playlist"
   ]
  },
  {
   "cell_type": "code",
   "execution_count": 260,
   "metadata": {},
   "outputs": [],
   "source": [
    "# build songs added to playlist feature\n",
    "feature_3 = logs_df.where('page == \"Add to Playlist\"').groupby(['userId']).count()\\\n",
    "    .groupby(['userId']).agg({'count':'avg'}).withColumnRenamed('avg(count)', 'Songs added to playlist')"
   ]
  },
  {
   "cell_type": "code",
   "execution_count": 261,
   "metadata": {},
   "outputs": [
    {
     "name": "stdout",
     "output_type": "stream",
     "text": [
      "+-------+-----------------------+\n",
      "|summary|Songs added to playlist|\n",
      "+-------+-----------------------+\n",
      "|  count|                    215|\n",
      "|   mean|      30.35348837209302|\n",
      "| stddev|       32.8520568555997|\n",
      "|    min|                    1.0|\n",
      "|    max|                  240.0|\n",
      "+-------+-----------------------+\n",
      "\n"
     ]
    }
   ],
   "source": [
    "# print songs added to playlist feature summary\n",
    "feature_3.describe('Songs added to playlist').show()"
   ]
  },
  {
   "cell_type": "markdown",
   "metadata": {},
   "source": [
    "#### 4.4 Thumbs up"
   ]
  },
  {
   "cell_type": "code",
   "execution_count": 262,
   "metadata": {},
   "outputs": [],
   "source": [
    "# build thumbs up feature\n",
    "feature_4 = logs_df.where('page == \"Thumbs Up\"').groupby(['userId']).count()\\\n",
    "    .groupby(['userId']).agg({'count':'avg'}).withColumnRenamed('avg(count)', 'Thumbs up')"
   ]
  },
  {
   "cell_type": "code",
   "execution_count": 263,
   "metadata": {},
   "outputs": [
    {
     "name": "stdout",
     "output_type": "stream",
     "text": [
      "+-------+-----------------+\n",
      "|summary|        Thumbs up|\n",
      "+-------+-----------------+\n",
      "|  count|              220|\n",
      "|   mean|            57.05|\n",
      "| stddev|65.67028650524044|\n",
      "|    min|              1.0|\n",
      "|    max|            437.0|\n",
      "+-------+-----------------+\n",
      "\n"
     ]
    }
   ],
   "source": [
    "# print thumbs up feature summary\n",
    "feature_4.describe('Thumbs up').show()"
   ]
  },
  {
   "cell_type": "markdown",
   "metadata": {},
   "source": [
    "#### 4.5 Thumbs down"
   ]
  },
  {
   "cell_type": "code",
   "execution_count": 264,
   "metadata": {},
   "outputs": [],
   "source": [
    "# build thumbs down feature\n",
    "feature_5 = logs_df.where('page == \"Thumbs Down\"').groupby(['userId']).count()\\\n",
    "    .groupby(['userId']).agg({'count':'avg'}).withColumnRenamed('avg(count)', 'Thumbs down')"
   ]
  },
  {
   "cell_type": "code",
   "execution_count": 265,
   "metadata": {},
   "outputs": [
    {
     "name": "stdout",
     "output_type": "stream",
     "text": [
      "+-------+------------------+\n",
      "|summary|       Thumbs down|\n",
      "+-------+------------------+\n",
      "|  count|               203|\n",
      "|   mean|12.541871921182265|\n",
      "| stddev|13.198108566983787|\n",
      "|    min|               1.0|\n",
      "|    max|              75.0|\n",
      "+-------+------------------+\n",
      "\n"
     ]
    }
   ],
   "source": [
    "# print thumbs down feature summary\n",
    "feature_5.describe('Thumbs down').show()"
   ]
  },
  {
   "cell_type": "markdown",
   "metadata": {},
   "source": [
    "#### 4.6 Number of friends added"
   ]
  },
  {
   "cell_type": "code",
   "execution_count": 266,
   "metadata": {},
   "outputs": [],
   "source": [
    "# build friends added feature\n",
    "feature_6 = logs_df.where('page == \"Add Friend\"').groupby(['userId']).count()\\\n",
    "    .groupby(['userId']).agg({'count':'avg'}).withColumnRenamed('avg(count)', 'Friends added')"
   ]
  },
  {
   "cell_type": "code",
   "execution_count": 267,
   "metadata": {},
   "outputs": [
    {
     "name": "stdout",
     "output_type": "stream",
     "text": [
      "+-------+------------------+\n",
      "|summary|     Friends added|\n",
      "+-------+------------------+\n",
      "|  count|               206|\n",
      "|   mean|20.762135922330096|\n",
      "| stddev|20.646779074405007|\n",
      "|    min|               1.0|\n",
      "|    max|             143.0|\n",
      "+-------+------------------+\n",
      "\n"
     ]
    }
   ],
   "source": [
    "# print friends added feature summary\n",
    "feature_6.describe('Friends added').show()"
   ]
  },
  {
   "cell_type": "markdown",
   "metadata": {},
   "source": [
    "#### 4.7 Gender"
   ]
  },
  {
   "cell_type": "code",
   "execution_count": 268,
   "metadata": {},
   "outputs": [],
   "source": [
    "# build gender feature with m/f as a binary value\n",
    "feature_7 = logs_df.dropDuplicates(['userId']).sort('userId').select(['userId','gender'])\n",
    "feature_7 = feature_7.replace(['F','M'], ['1', '0'], 'gender')"
   ]
  },
  {
   "cell_type": "code",
   "execution_count": 269,
   "metadata": {},
   "outputs": [],
   "source": [
    "# convert feature type to integer\n",
    "feature_7 = feature_7.withColumn('gender', feature_7.gender.cast(\"int\"))"
   ]
  },
  {
   "cell_type": "code",
   "execution_count": 270,
   "metadata": {},
   "outputs": [
    {
     "name": "stdout",
     "output_type": "stream",
     "text": [
      "+-------+-------------------+\n",
      "|summary|             gender|\n",
      "+-------+-------------------+\n",
      "|  count|                225|\n",
      "|   mean| 0.4622222222222222|\n",
      "| stddev|0.49968243883744773|\n",
      "|    min|                  0|\n",
      "|    max|                  1|\n",
      "+-------+-------------------+\n",
      "\n"
     ]
    }
   ],
   "source": [
    "# print gender feature summary\n",
    "feature_7.describe('gender').show()"
   ]
  },
  {
   "cell_type": "markdown",
   "metadata": {},
   "source": [
    "#### 4.8 Combine features ready for use"
   ]
  },
  {
   "cell_type": "markdown",
   "metadata": {},
   "source": [
    "We'll now take our list of features, and join them into a dataframe for each user alongside the Churn Flag, such that we can use them for modelling. "
   ]
  },
  {
   "cell_type": "code",
   "execution_count": 271,
   "metadata": {},
   "outputs": [],
   "source": [
    "# set up features_df with user IDs\n",
    "features_df = logs_df.dropDuplicates(['userId']).sort('userId').select(['userId', 'Churn_Flag'])\n",
    "\n",
    "# pull features into an array\n",
    "feature_list = [feature_1, feature_2, feature_3, feature_4, feature_5, feature_6, feature_7]\n",
    "\n",
    "# join features onto dataframe\n",
    "for feature in feature_list:\n",
    "    features_df = features_df.join(feature,'userId')"
   ]
  },
  {
   "cell_type": "code",
   "execution_count": 272,
   "metadata": {},
   "outputs": [],
   "source": [
    "# rename churn_flag to label for ease of use in modelling\n",
    "features_df = features_df.withColumnRenamed('Churn_Flag', 'label')\n",
    "\n",
    "# drop user_id\n",
    "features_df = features_df.drop('userID') \n",
    "\n",
    "# ensure NAs filled\n",
    "features_df = features_df.fillna(0)"
   ]
  },
  {
   "cell_type": "code",
   "execution_count": 273,
   "metadata": {},
   "outputs": [
    {
     "name": "stdout",
     "output_type": "stream",
     "text": [
      "+-----+------------+------------------+-----------------------+---------+-----------+-------------+------+\n",
      "|label|Songs played| Songs per session|Songs added to playlist|Thumbs up|Thumbs down|Friends added|gender|\n",
      "+-----+------------+------------------+-----------------------+---------+-----------+-------------+------+\n",
      "|    0|       275.0|39.285714285714285|                    7.0|     17.0|        5.0|          4.0|     1|\n",
      "|    0|       387.0|              64.5|                    8.0|     21.0|        6.0|          4.0|     0|\n",
      "|    1|      2111.0|             211.1|                   52.0|    100.0|       21.0|         28.0|     0|\n",
      "|    0|      4079.0|145.67857142857142|                  118.0|    171.0|       41.0|         74.0|     1|\n",
      "|    0|       150.0|21.428571428571427|                    5.0|      7.0|        1.0|          1.0|     0|\n",
      "|    1|      2841.0| 81.17142857142858|                   72.0|    163.0|       29.0|         33.0|     1|\n",
      "|    0|      1914.0|136.71428571428572|                   59.0|     81.0|       14.0|         31.0|     0|\n",
      "|    0|       820.0|136.66666666666666|                   24.0|     58.0|        3.0|         11.0|     1|\n",
      "|    0|      1928.0|             120.5|                   38.0|     96.0|       17.0|         41.0|     1|\n",
      "|    1|       257.0|42.833333333333336|                    7.0|     17.0|        3.0|          6.0|     0|\n",
      "|    1|      1797.0|             179.7|                   61.0|     86.0|       16.0|         29.0|     0|\n",
      "|    0|       647.0|           40.4375|                   20.0|     40.0|        9.0|          6.0|     1|\n",
      "|    0|      2070.0|             138.0|                   67.0|     95.0|       24.0|         41.0|     0|\n",
      "|    0|      3632.0|59.540983606557376|                  113.0|    303.0|       28.0|         63.0|     1|\n",
      "|    1|      3028.0| 89.05882352941177|                   89.0|    154.0|       22.0|         47.0|     0|\n",
      "|    0|      1125.0|             125.0|                   33.0|     72.0|        9.0|         12.0|     1|\n",
      "|    1|       230.0|              46.0|                    7.0|     11.0|        5.0|          7.0|     0|\n",
      "|    0|      3573.0| 87.14634146341463|                  104.0|    166.0|       25.0|         52.0|     1|\n",
      "|    0|       215.0| 23.88888888888889|                    7.0|      9.0|        3.0|          7.0|     0|\n",
      "|    1|       767.0|             30.68|                   19.0|     32.0|        5.0|         27.0|     0|\n",
      "+-----+------------+------------------+-----------------------+---------+-----------+-------------+------+\n",
      "only showing top 20 rows\n",
      "\n"
     ]
    }
   ],
   "source": [
    "features_df.show()"
   ]
  },
  {
   "cell_type": "code",
   "execution_count": 274,
   "metadata": {},
   "outputs": [
    {
     "data": {
      "text/html": [
       "<div>\n",
       "<style scoped>\n",
       "    .dataframe tbody tr th:only-of-type {\n",
       "        vertical-align: middle;\n",
       "    }\n",
       "\n",
       "    .dataframe tbody tr th {\n",
       "        vertical-align: top;\n",
       "    }\n",
       "\n",
       "    .dataframe thead th {\n",
       "        text-align: right;\n",
       "    }\n",
       "</style>\n",
       "<table border=\"1\" class=\"dataframe\">\n",
       "  <thead>\n",
       "    <tr style=\"text-align: right;\">\n",
       "      <th></th>\n",
       "      <th>label</th>\n",
       "      <th>Songs played</th>\n",
       "      <th>Songs per session</th>\n",
       "      <th>Songs added to playlist</th>\n",
       "      <th>Thumbs up</th>\n",
       "      <th>Thumbs down</th>\n",
       "      <th>Friends added</th>\n",
       "      <th>gender</th>\n",
       "    </tr>\n",
       "  </thead>\n",
       "  <tbody>\n",
       "    <tr>\n",
       "      <th>0</th>\n",
       "      <td>0</td>\n",
       "      <td>275.0</td>\n",
       "      <td>39.285714</td>\n",
       "      <td>7.0</td>\n",
       "      <td>17.0</td>\n",
       "      <td>5.0</td>\n",
       "      <td>4.0</td>\n",
       "      <td>1</td>\n",
       "    </tr>\n",
       "    <tr>\n",
       "      <th>1</th>\n",
       "      <td>0</td>\n",
       "      <td>387.0</td>\n",
       "      <td>64.500000</td>\n",
       "      <td>8.0</td>\n",
       "      <td>21.0</td>\n",
       "      <td>6.0</td>\n",
       "      <td>4.0</td>\n",
       "      <td>0</td>\n",
       "    </tr>\n",
       "    <tr>\n",
       "      <th>2</th>\n",
       "      <td>1</td>\n",
       "      <td>2111.0</td>\n",
       "      <td>211.100000</td>\n",
       "      <td>52.0</td>\n",
       "      <td>100.0</td>\n",
       "      <td>21.0</td>\n",
       "      <td>28.0</td>\n",
       "      <td>0</td>\n",
       "    </tr>\n",
       "    <tr>\n",
       "      <th>3</th>\n",
       "      <td>0</td>\n",
       "      <td>4079.0</td>\n",
       "      <td>145.678571</td>\n",
       "      <td>118.0</td>\n",
       "      <td>171.0</td>\n",
       "      <td>41.0</td>\n",
       "      <td>74.0</td>\n",
       "      <td>1</td>\n",
       "    </tr>\n",
       "    <tr>\n",
       "      <th>4</th>\n",
       "      <td>0</td>\n",
       "      <td>150.0</td>\n",
       "      <td>21.428571</td>\n",
       "      <td>5.0</td>\n",
       "      <td>7.0</td>\n",
       "      <td>1.0</td>\n",
       "      <td>1.0</td>\n",
       "      <td>0</td>\n",
       "    </tr>\n",
       "    <tr>\n",
       "      <th>5</th>\n",
       "      <td>1</td>\n",
       "      <td>2841.0</td>\n",
       "      <td>81.171429</td>\n",
       "      <td>72.0</td>\n",
       "      <td>163.0</td>\n",
       "      <td>29.0</td>\n",
       "      <td>33.0</td>\n",
       "      <td>1</td>\n",
       "    </tr>\n",
       "    <tr>\n",
       "      <th>6</th>\n",
       "      <td>0</td>\n",
       "      <td>1914.0</td>\n",
       "      <td>136.714286</td>\n",
       "      <td>59.0</td>\n",
       "      <td>81.0</td>\n",
       "      <td>14.0</td>\n",
       "      <td>31.0</td>\n",
       "      <td>0</td>\n",
       "    </tr>\n",
       "    <tr>\n",
       "      <th>7</th>\n",
       "      <td>0</td>\n",
       "      <td>820.0</td>\n",
       "      <td>136.666667</td>\n",
       "      <td>24.0</td>\n",
       "      <td>58.0</td>\n",
       "      <td>3.0</td>\n",
       "      <td>11.0</td>\n",
       "      <td>1</td>\n",
       "    </tr>\n",
       "    <tr>\n",
       "      <th>8</th>\n",
       "      <td>0</td>\n",
       "      <td>1928.0</td>\n",
       "      <td>120.500000</td>\n",
       "      <td>38.0</td>\n",
       "      <td>96.0</td>\n",
       "      <td>17.0</td>\n",
       "      <td>41.0</td>\n",
       "      <td>1</td>\n",
       "    </tr>\n",
       "    <tr>\n",
       "      <th>9</th>\n",
       "      <td>1</td>\n",
       "      <td>257.0</td>\n",
       "      <td>42.833333</td>\n",
       "      <td>7.0</td>\n",
       "      <td>17.0</td>\n",
       "      <td>3.0</td>\n",
       "      <td>6.0</td>\n",
       "      <td>0</td>\n",
       "    </tr>\n",
       "  </tbody>\n",
       "</table>\n",
       "</div>"
      ],
      "text/plain": [
       "   label  Songs played  Songs per session  Songs added to playlist  Thumbs up  \\\n",
       "0      0         275.0          39.285714                      7.0       17.0   \n",
       "1      0         387.0          64.500000                      8.0       21.0   \n",
       "2      1        2111.0         211.100000                     52.0      100.0   \n",
       "3      0        4079.0         145.678571                    118.0      171.0   \n",
       "4      0         150.0          21.428571                      5.0        7.0   \n",
       "5      1        2841.0          81.171429                     72.0      163.0   \n",
       "6      0        1914.0         136.714286                     59.0       81.0   \n",
       "7      0         820.0         136.666667                     24.0       58.0   \n",
       "8      0        1928.0         120.500000                     38.0       96.0   \n",
       "9      1         257.0          42.833333                      7.0       17.0   \n",
       "\n",
       "   Thumbs down  Friends added  gender  \n",
       "0          5.0            4.0       1  \n",
       "1          6.0            4.0       0  \n",
       "2         21.0           28.0       0  \n",
       "3         41.0           74.0       1  \n",
       "4          1.0            1.0       0  \n",
       "5         29.0           33.0       1  \n",
       "6         14.0           31.0       0  \n",
       "7          3.0           11.0       1  \n",
       "8         17.0           41.0       1  \n",
       "9          3.0            6.0       0  "
      ]
     },
     "execution_count": 274,
     "metadata": {},
     "output_type": "execute_result"
    }
   ],
   "source": [
    "# optionally, perform the same operation in a more readable format\n",
    "features_df.limit(10).toPandas().head(10)"
   ]
  },
  {
   "cell_type": "markdown",
   "metadata": {},
   "source": [
    "## 5. Modeling"
   ]
  },
  {
   "cell_type": "markdown",
   "metadata": {},
   "source": [
    "We'll now prepare our data for modelling and train some classifiers to predict churn. Since we have an imbalanced data set, we'll use F1 score as our evaluation metric."
   ]
  },
  {
   "cell_type": "markdown",
   "metadata": {},
   "source": [
    "#### 5.1 Prep data"
   ]
  },
  {
   "cell_type": "markdown",
   "metadata": {},
   "source": [
    "We'll start by preparing our data for modelling. We'll use a fairly conventional 60/20/20 split for our train/validation/test data sets."
   ]
  },
  {
   "cell_type": "code",
   "execution_count": 275,
   "metadata": {},
   "outputs": [],
   "source": [
    "# select columns to use as features\n",
    "feature_cols = features_df.columns[1:]"
   ]
  },
  {
   "cell_type": "code",
   "execution_count": 276,
   "metadata": {},
   "outputs": [
    {
     "data": {
      "text/plain": [
       "['Songs played',\n",
       " 'Songs per session',\n",
       " 'Songs added to playlist',\n",
       " 'Thumbs up',\n",
       " 'Thumbs down',\n",
       " 'Friends added',\n",
       " 'gender']"
      ]
     },
     "execution_count": 276,
     "metadata": {},
     "output_type": "execute_result"
    }
   ],
   "source": [
    "feature_cols"
   ]
  },
  {
   "cell_type": "code",
   "execution_count": 277,
   "metadata": {},
   "outputs": [],
   "source": [
    "# vectorize columns\n",
    "assembler = VectorAssembler(inputCols=feature_cols, outputCol='Features')\n",
    "features_df = assembler.transform(features_df)"
   ]
  },
  {
   "cell_type": "code",
   "execution_count": 278,
   "metadata": {},
   "outputs": [],
   "source": [
    "# scale features\n",
    "scaler = StandardScaler(inputCol='Features', outputCol='Scaled_Features')\n",
    "scaled_model = scaler.fit(features_df)\n",
    "features_df = scaled_model.transform(features_df)"
   ]
  },
  {
   "cell_type": "code",
   "execution_count": 279,
   "metadata": {},
   "outputs": [],
   "source": [
    "# split into train, validation, and test sets\n",
    "train, non_train = features_df.randomSplit([0.6, 0.4], seed = 42)\n",
    "test, validation = non_train.randomSplit([0.5, 0.5], seed = 42)"
   ]
  },
  {
   "cell_type": "code",
   "execution_count": 280,
   "metadata": {},
   "outputs": [],
   "source": [
    "# instantiate evaluator\n",
    "mc_evaluator = MulticlassClassificationEvaluator(predictionCol='prediction')"
   ]
  },
  {
   "cell_type": "markdown",
   "metadata": {},
   "source": [
    "#### 5.2.1 Modelling: Logistic regression"
   ]
  },
  {
   "cell_type": "code",
   "execution_count": 281,
   "metadata": {},
   "outputs": [],
   "source": [
    "# instantiate and fit a logistic regression model\n",
    "lr = LogisticRegression(featuresCol = 'Features', labelCol = 'label')\n",
    "lr_trained = lr.fit(train)"
   ]
  },
  {
   "cell_type": "code",
   "execution_count": 282,
   "metadata": {},
   "outputs": [],
   "source": [
    "# save outputs for evaluation\n",
    "lr_output = lr_trained.transform(validation)"
   ]
  },
  {
   "cell_type": "code",
   "execution_count": 283,
   "metadata": {},
   "outputs": [
    {
     "name": "stdout",
     "output_type": "stream",
     "text": [
      "Logistic regression F1 score: 0.732282448377581\n"
     ]
    }
   ],
   "source": [
    "# display performance level\n",
    "lr_performance = mc_evaluator.evaluate(lr_output, {mc_evaluator.metricName: 'f1'})\n",
    "print('Logistic regression F1 score: %s' % lr_performance)"
   ]
  },
  {
   "cell_type": "markdown",
   "metadata": {},
   "source": [
    "We manage to achieve an F1 of ~73% on this model, which is a reasonable start. Let's try an additional model type for comparison."
   ]
  },
  {
   "cell_type": "markdown",
   "metadata": {},
   "source": [
    "#### 5.2.2 Modelling: Random forest"
   ]
  },
  {
   "cell_type": "markdown",
   "metadata": {},
   "source": [
    "Here we instantiate and train a random forest model. At this stage we set fairly arbitrary parameters, including numTrees of 5, a maxDepth of 10, and gini as our impurity measure. Our aim here is to get a basic read of our model's performance, which we can refine and tune in the next section."
   ]
  },
  {
   "cell_type": "code",
   "execution_count": 284,
   "metadata": {},
   "outputs": [],
   "source": [
    "# instantiate and fit the random forest model\n",
    "rf = RandomForestClassifier(featuresCol = 'Features', labelCol = 'label', numTrees = 5, maxDepth = 2, \\\n",
    "                            impurity =\"gini\")\n",
    "rf_trained = rf.fit(train)"
   ]
  },
  {
   "cell_type": "code",
   "execution_count": 285,
   "metadata": {},
   "outputs": [],
   "source": [
    "# save outputs for evaluation\n",
    "rf_output = rf_trained.transform(validation)"
   ]
  },
  {
   "cell_type": "code",
   "execution_count": 286,
   "metadata": {},
   "outputs": [
    {
     "name": "stdout",
     "output_type": "stream",
     "text": [
      "Random forest F1 score: 0.7420112781954887\n"
     ]
    }
   ],
   "source": [
    "# display performance level\n",
    "rf_performance = mc_evaluator.evaluate(rf_output, {mc_evaluator.metricName: 'f1'})\n",
    "print('Random forest F1 score: %s' % rf_performance)"
   ]
  },
  {
   "cell_type": "markdown",
   "metadata": {},
   "source": [
    "We can see from this that the Random forest seems to outperform logistic regression. The F1 score of ~74% is quite promising, especially on this limited training data set."
   ]
  },
  {
   "cell_type": "markdown",
   "metadata": {},
   "source": [
    "#### 5.3 Model refinement"
   ]
  },
  {
   "cell_type": "markdown",
   "metadata": {},
   "source": [
    "We've reached a reasonable performance score using our Random Forest model, but so far we've simply made use of an arbitrary set of parameters. The random forest is so far our best performing model, so we'll move now to refine it in order to reach a higher performance level. \n",
    "\n",
    "Taking our random forest model as a base, we're now going to conduct some additional tuning of the model to try and reach an improved performance level. We'll do this using a cross validator and a grid of parameters to optimise from."
   ]
  },
  {
   "cell_type": "code",
   "execution_count": 323,
   "metadata": {},
   "outputs": [],
   "source": [
    "# set paramter grid\n",
    "rf2 = RandomForestClassifier(featuresCol = 'Features', labelCol = 'label')\n",
    "\n",
    "param_grid = ParamGridBuilder().addGrid(rf2.numTrees, [5, 10, 20]).addGrid(rf2.maxDepth, [2, 5, 8]).\\\n",
    "                addGrid(rf2.impurity, [\"entropy\", \"gini\"]).build()\n",
    "\n",
    "# build cross-validator optimised to f1\n",
    "cv = CrossValidator(estimator=rf2, \n",
    "                    estimatorParamMaps = param_grid, \n",
    "                    evaluator = MulticlassClassificationEvaluator(metricName='f1'),\n",
    "                    numFolds=4)"
   ]
  },
  {
   "cell_type": "code",
   "execution_count": 340,
   "metadata": {},
   "outputs": [
    {
     "name": "stdout",
     "output_type": "stream",
     "text": [
      "Random forest F1 score: 0.8147095959595959\n"
     ]
    }
   ],
   "source": [
    "rf2 = RandomForestClassifier(featuresCol = 'Features', labelCol = 'label', numTrees = 20, maxDepth = 5, \\\n",
    "                            impurity =\"gini\")\n",
    "rf_trained2 = rf2.fit(train)\n",
    "\n",
    "rf_output2 = rf_trained2.transform(validation)\n",
    "\n",
    "# display performance level\n",
    "rf_performance2 = mc_evaluator.evaluate(rf_output2, {mc_evaluator.metricName: 'f1'})\n",
    "print('Random forest F1 score: %s' % rf_performance2)"
   ]
  },
  {
   "cell_type": "markdown",
   "metadata": {},
   "source": [
    "^ KILL THIS CODE WHEN DONE"
   ]
  },
  {
   "cell_type": "code",
   "execution_count": 324,
   "metadata": {},
   "outputs": [
    {
     "ename": "KeyboardInterrupt",
     "evalue": "",
     "output_type": "error",
     "traceback": [
      "\u001b[0;31m---------------------------------------------------------------------------\u001b[0m",
      "\u001b[0;31mIndexError\u001b[0m                                Traceback (most recent call last)",
      "\u001b[0;32m~/anaconda3/lib/python3.6/multiprocessing/pool.py\u001b[0m in \u001b[0;36mnext\u001b[0;34m(self, timeout)\u001b[0m\n\u001b[1;32m    719\u001b[0m             \u001b[0;32mtry\u001b[0m\u001b[0;34m:\u001b[0m\u001b[0;34m\u001b[0m\u001b[0;34m\u001b[0m\u001b[0m\n\u001b[0;32m--> 720\u001b[0;31m                 \u001b[0mitem\u001b[0m \u001b[0;34m=\u001b[0m \u001b[0mself\u001b[0m\u001b[0;34m.\u001b[0m\u001b[0m_items\u001b[0m\u001b[0;34m.\u001b[0m\u001b[0mpopleft\u001b[0m\u001b[0;34m(\u001b[0m\u001b[0;34m)\u001b[0m\u001b[0;34m\u001b[0m\u001b[0;34m\u001b[0m\u001b[0m\n\u001b[0m\u001b[1;32m    721\u001b[0m             \u001b[0;32mexcept\u001b[0m \u001b[0mIndexError\u001b[0m\u001b[0;34m:\u001b[0m\u001b[0;34m\u001b[0m\u001b[0;34m\u001b[0m\u001b[0m\n",
      "\u001b[0;31mIndexError\u001b[0m: pop from an empty deque",
      "\nDuring handling of the above exception, another exception occurred:\n",
      "\u001b[0;31mKeyboardInterrupt\u001b[0m                         Traceback (most recent call last)",
      "\u001b[0;32m<ipython-input-324-8cd4354f3dfe>\u001b[0m in \u001b[0;36m<module>\u001b[0;34m\u001b[0m\n\u001b[1;32m      1\u001b[0m \u001b[0;31m# train the model with cross-validation\u001b[0m\u001b[0;34m\u001b[0m\u001b[0;34m\u001b[0m\u001b[0;34m\u001b[0m\u001b[0m\n\u001b[0;32m----> 2\u001b[0;31m \u001b[0mtuned_model\u001b[0m \u001b[0;34m=\u001b[0m \u001b[0mcv\u001b[0m\u001b[0;34m.\u001b[0m\u001b[0mfit\u001b[0m\u001b[0;34m(\u001b[0m\u001b[0mtrain\u001b[0m\u001b[0;34m)\u001b[0m\u001b[0;34m\u001b[0m\u001b[0;34m\u001b[0m\u001b[0m\n\u001b[0m",
      "\u001b[0;32m~/anaconda3/lib/python3.6/site-packages/pyspark/ml/base.py\u001b[0m in \u001b[0;36mfit\u001b[0;34m(self, dataset, params)\u001b[0m\n\u001b[1;32m    130\u001b[0m                 \u001b[0;32mreturn\u001b[0m \u001b[0mself\u001b[0m\u001b[0;34m.\u001b[0m\u001b[0mcopy\u001b[0m\u001b[0;34m(\u001b[0m\u001b[0mparams\u001b[0m\u001b[0;34m)\u001b[0m\u001b[0;34m.\u001b[0m\u001b[0m_fit\u001b[0m\u001b[0;34m(\u001b[0m\u001b[0mdataset\u001b[0m\u001b[0;34m)\u001b[0m\u001b[0;34m\u001b[0m\u001b[0;34m\u001b[0m\u001b[0m\n\u001b[1;32m    131\u001b[0m             \u001b[0;32melse\u001b[0m\u001b[0;34m:\u001b[0m\u001b[0;34m\u001b[0m\u001b[0;34m\u001b[0m\u001b[0m\n\u001b[0;32m--> 132\u001b[0;31m                 \u001b[0;32mreturn\u001b[0m \u001b[0mself\u001b[0m\u001b[0;34m.\u001b[0m\u001b[0m_fit\u001b[0m\u001b[0;34m(\u001b[0m\u001b[0mdataset\u001b[0m\u001b[0;34m)\u001b[0m\u001b[0;34m\u001b[0m\u001b[0;34m\u001b[0m\u001b[0m\n\u001b[0m\u001b[1;32m    133\u001b[0m         \u001b[0;32melse\u001b[0m\u001b[0;34m:\u001b[0m\u001b[0;34m\u001b[0m\u001b[0;34m\u001b[0m\u001b[0m\n\u001b[1;32m    134\u001b[0m             raise ValueError(\"Params must be either a param map or a list/tuple of param maps, \"\n",
      "\u001b[0;32m~/anaconda3/lib/python3.6/site-packages/pyspark/ml/tuning.py\u001b[0m in \u001b[0;36m_fit\u001b[0;34m(self, dataset)\u001b[0m\n\u001b[1;32m    302\u001b[0m \u001b[0;34m\u001b[0m\u001b[0m\n\u001b[1;32m    303\u001b[0m             \u001b[0mtasks\u001b[0m \u001b[0;34m=\u001b[0m \u001b[0m_parallelFitTasks\u001b[0m\u001b[0;34m(\u001b[0m\u001b[0mest\u001b[0m\u001b[0;34m,\u001b[0m \u001b[0mtrain\u001b[0m\u001b[0;34m,\u001b[0m \u001b[0meva\u001b[0m\u001b[0;34m,\u001b[0m \u001b[0mvalidation\u001b[0m\u001b[0;34m,\u001b[0m \u001b[0mepm\u001b[0m\u001b[0;34m,\u001b[0m \u001b[0mcollectSubModelsParam\u001b[0m\u001b[0;34m)\u001b[0m\u001b[0;34m\u001b[0m\u001b[0;34m\u001b[0m\u001b[0m\n\u001b[0;32m--> 304\u001b[0;31m             \u001b[0;32mfor\u001b[0m \u001b[0mj\u001b[0m\u001b[0;34m,\u001b[0m \u001b[0mmetric\u001b[0m\u001b[0;34m,\u001b[0m \u001b[0msubModel\u001b[0m \u001b[0;32min\u001b[0m \u001b[0mpool\u001b[0m\u001b[0;34m.\u001b[0m\u001b[0mimap_unordered\u001b[0m\u001b[0;34m(\u001b[0m\u001b[0;32mlambda\u001b[0m \u001b[0mf\u001b[0m\u001b[0;34m:\u001b[0m \u001b[0mf\u001b[0m\u001b[0;34m(\u001b[0m\u001b[0;34m)\u001b[0m\u001b[0;34m,\u001b[0m \u001b[0mtasks\u001b[0m\u001b[0;34m)\u001b[0m\u001b[0;34m:\u001b[0m\u001b[0;34m\u001b[0m\u001b[0;34m\u001b[0m\u001b[0m\n\u001b[0m\u001b[1;32m    305\u001b[0m                 \u001b[0mmetrics\u001b[0m\u001b[0;34m[\u001b[0m\u001b[0mj\u001b[0m\u001b[0;34m]\u001b[0m \u001b[0;34m+=\u001b[0m \u001b[0;34m(\u001b[0m\u001b[0mmetric\u001b[0m \u001b[0;34m/\u001b[0m \u001b[0mnFolds\u001b[0m\u001b[0;34m)\u001b[0m\u001b[0;34m\u001b[0m\u001b[0;34m\u001b[0m\u001b[0m\n\u001b[1;32m    306\u001b[0m                 \u001b[0;32mif\u001b[0m \u001b[0mcollectSubModelsParam\u001b[0m\u001b[0;34m:\u001b[0m\u001b[0;34m\u001b[0m\u001b[0;34m\u001b[0m\u001b[0m\n",
      "\u001b[0;32m~/anaconda3/lib/python3.6/multiprocessing/pool.py\u001b[0m in \u001b[0;36mnext\u001b[0;34m(self, timeout)\u001b[0m\n\u001b[1;32m    722\u001b[0m                 \u001b[0;32mif\u001b[0m \u001b[0mself\u001b[0m\u001b[0;34m.\u001b[0m\u001b[0m_index\u001b[0m \u001b[0;34m==\u001b[0m \u001b[0mself\u001b[0m\u001b[0;34m.\u001b[0m\u001b[0m_length\u001b[0m\u001b[0;34m:\u001b[0m\u001b[0;34m\u001b[0m\u001b[0;34m\u001b[0m\u001b[0m\n\u001b[1;32m    723\u001b[0m                     \u001b[0;32mraise\u001b[0m \u001b[0mStopIteration\u001b[0m\u001b[0;34m\u001b[0m\u001b[0;34m\u001b[0m\u001b[0m\n\u001b[0;32m--> 724\u001b[0;31m                 \u001b[0mself\u001b[0m\u001b[0;34m.\u001b[0m\u001b[0m_cond\u001b[0m\u001b[0;34m.\u001b[0m\u001b[0mwait\u001b[0m\u001b[0;34m(\u001b[0m\u001b[0mtimeout\u001b[0m\u001b[0;34m)\u001b[0m\u001b[0;34m\u001b[0m\u001b[0;34m\u001b[0m\u001b[0m\n\u001b[0m\u001b[1;32m    725\u001b[0m                 \u001b[0;32mtry\u001b[0m\u001b[0;34m:\u001b[0m\u001b[0;34m\u001b[0m\u001b[0;34m\u001b[0m\u001b[0m\n\u001b[1;32m    726\u001b[0m                     \u001b[0mitem\u001b[0m \u001b[0;34m=\u001b[0m \u001b[0mself\u001b[0m\u001b[0;34m.\u001b[0m\u001b[0m_items\u001b[0m\u001b[0;34m.\u001b[0m\u001b[0mpopleft\u001b[0m\u001b[0;34m(\u001b[0m\u001b[0;34m)\u001b[0m\u001b[0;34m\u001b[0m\u001b[0;34m\u001b[0m\u001b[0m\n",
      "\u001b[0;32m~/anaconda3/lib/python3.6/threading.py\u001b[0m in \u001b[0;36mwait\u001b[0;34m(self, timeout)\u001b[0m\n\u001b[1;32m    293\u001b[0m         \u001b[0;32mtry\u001b[0m\u001b[0;34m:\u001b[0m    \u001b[0;31m# restore state no matter what (e.g., KeyboardInterrupt)\u001b[0m\u001b[0;34m\u001b[0m\u001b[0;34m\u001b[0m\u001b[0m\n\u001b[1;32m    294\u001b[0m             \u001b[0;32mif\u001b[0m \u001b[0mtimeout\u001b[0m \u001b[0;32mis\u001b[0m \u001b[0;32mNone\u001b[0m\u001b[0;34m:\u001b[0m\u001b[0;34m\u001b[0m\u001b[0;34m\u001b[0m\u001b[0m\n\u001b[0;32m--> 295\u001b[0;31m                 \u001b[0mwaiter\u001b[0m\u001b[0;34m.\u001b[0m\u001b[0macquire\u001b[0m\u001b[0;34m(\u001b[0m\u001b[0;34m)\u001b[0m\u001b[0;34m\u001b[0m\u001b[0;34m\u001b[0m\u001b[0m\n\u001b[0m\u001b[1;32m    296\u001b[0m                 \u001b[0mgotit\u001b[0m \u001b[0;34m=\u001b[0m \u001b[0;32mTrue\u001b[0m\u001b[0;34m\u001b[0m\u001b[0;34m\u001b[0m\u001b[0m\n\u001b[1;32m    297\u001b[0m             \u001b[0;32melse\u001b[0m\u001b[0;34m:\u001b[0m\u001b[0;34m\u001b[0m\u001b[0;34m\u001b[0m\u001b[0m\n",
      "\u001b[0;31mKeyboardInterrupt\u001b[0m: "
     ]
    }
   ],
   "source": [
    "# train the model with cross-validation\n",
    "tuned_model = cv.fit(train)"
   ]
  },
  {
   "cell_type": "code",
   "execution_count": null,
   "metadata": {},
   "outputs": [],
   "source": [
    "# save outputs for evaluation\n",
    "best_model = tuned_model.bestModel\n",
    "tuned_output = best_model.transform(validation)"
   ]
  },
  {
   "cell_type": "code",
   "execution_count": 325,
   "metadata": {},
   "outputs": [
    {
     "name": "stdout",
     "output_type": "stream",
     "text": [
      "Tuned RF model F1 score: 0.7622767857142857\n"
     ]
    }
   ],
   "source": [
    "# display performance level\n",
    "tuned_performance = mc_evaluator.evaluate(tuned_output, {mc_evaluator.metricName: 'f1'})\n",
    "print('Tuned RF model F1 score: %s' % tuned_performance)"
   ]
  },
  {
   "cell_type": "markdown",
   "metadata": {},
   "source": [
    "This model outperforms the others we've selected. Let's review its hyperparameters."
   ]
  },
  {
   "cell_type": "code",
   "execution_count": 341,
   "metadata": {},
   "outputs": [
    {
     "name": "stdout",
     "output_type": "stream",
     "text": [
      "maxDepth 5\n"
     ]
    }
   ],
   "source": [
    "print(\"maxDepth:\", tuned_model.bestModel._java_obj.getMaxDepth())\n",
    "print(\"minInstancesPerNode\", cvModel_rfc_final.bestModel._java_obj.getMinInstancesPerNode())\n",
    "print(\"numTrees\", cvModel_rfc_final.bestModel._java_obj.getNumTrees())"
   ]
  },
  {
   "cell_type": "code",
   "execution_count": null,
   "metadata": {},
   "outputs": [],
   "source": [
    "cvModel.bestModel().extractParamMap().apply(cvModel.bestModel.getParam(\"regParam\"))\n"
   ]
  },
  {
   "cell_type": "markdown",
   "metadata": {},
   "source": [
    "CONTINUE RE-WORK FROM HERE"
   ]
  },
  {
   "cell_type": "markdown",
   "metadata": {},
   "source": [
    "^ Try to extract params from the default model and make use of those in next wave of tuning!"
   ]
  },
  {
   "cell_type": "markdown",
   "metadata": {},
   "source": [
    "#### 5.4 Model evaluation"
   ]
  },
  {
   "cell_type": "markdown",
   "metadata": {},
   "source": [
    "Above we tested a range of parameters, including various inputs on:\n",
    "- The number of trees to include\n",
    "- The max depth trees should go to\n",
    "- The impurity measure to use to train the model "
   ]
  },
  {
   "cell_type": "markdown",
   "metadata": {},
   "source": [
    "We've now trained a model that seems to work well. Reviewing the parameters, we found the following to be optimal for training purposes"
   ]
  },
  {
   "cell_type": "markdown",
   "metadata": {},
   "source": [
    ">>> print 'Best Param (regParam): ', bestModel._java_obj.getRegParam()\n",
    "0\n",
    ">>> print 'Best Param (MaxIter): ', bestModel._java_obj.getMaxIter()\n",
    "500\n",
    ">>> print 'Best Param (elasticNetParam): ', bestModel._java_obj.getElasticNetParam()\n",
    "1\n",
    "\n",
    "^ Use something like this in code (not markdown) to get the model tuning to work properly"
   ]
  },
  {
   "cell_type": "markdown",
   "metadata": {},
   "source": [
    "Some comment on these parameters and what this means"
   ]
  },
  {
   "cell_type": "markdown",
   "metadata": {},
   "source": [
    "Lastly, let's evaluate how our model interprets individual features."
   ]
  },
  {
   "cell_type": "code",
   "execution_count": null,
   "metadata": {},
   "outputs": [],
   "source": [
    "# improve this code and get it to run well\n",
    "feat_imp = gbt_best_model.featureImportances.values\n",
    "cols = [\"lifetime\", \"total_songs\", \"num_thumb_up\", \\\n",
    "          'num_thumb_down','add_to_playlist','add_friend','listen_time','avg_songs_played', \\\n",
    "        'gender', 'artist_count']\n",
    "y_pos = np.arange(len(cols))\n",
    " \n",
    "plt.barh(y_pos, feat_imp, align='center')\n",
    "plt.yticks(y_pos, cols)\n",
    "plt.xlabel('Importance Score')\n",
    "plt.title('GBT Feature Importances');"
   ]
  },
  {
   "cell_type": "markdown",
   "metadata": {},
   "source": [
    "## 6. Results"
   ]
  },
  {
   "cell_type": "markdown",
   "metadata": {},
   "source": [
    "We found we're able to reach an F1-Score of x% using our tuned random forest model. This is a good outcome, and one that is likely to improve if we move beyond this prototyping data set to make use of a large training set.\n",
    "\n",
    "We found that a base random forest model was more effective than a logistic regression model. Furthermore, we found that in tuning the random forest model [insert comment on features that proved most effective].\n",
    "\n",
    "Lastly, let's evaluate how our model interprets individual features."
   ]
  },
  {
   "cell_type": "markdown",
   "metadata": {},
   "source": [
    "We can see here <...>"
   ]
  },
  {
   "cell_type": "markdown",
   "metadata": {},
   "source": [
    "## 7. Conclusion"
   ]
  },
  {
   "cell_type": "markdown",
   "metadata": {},
   "source": [
    "#### 7.1 Summary"
   ]
  },
  {
   "cell_type": "markdown",
   "metadata": {},
   "source": [
    "In summary, we have implemented an initial model to predict customer churn. We've performed initial data preparation, identified and built a number of useful features, and trained a model to make use of them. We've found a random forest model to be a reasonably good predictor, achieving an f1-score of ~80%+. "
   ]
  },
  {
   "cell_type": "markdown",
   "metadata": {},
   "source": [
    "#### 7.2 Reflections"
   ]
  },
  {
   "cell_type": "markdown",
   "metadata": {},
   "source": [
    "Perhaps the most engaging aspect of this project was the chance to test out Spark and its associated ML capabilities. Though this was an initial exploration on a sample data set, in practice this problem may be tackled with far larger data sets in a scalable cloud environment (e.g. AWS).\n",
    "\n",
    "The exploration aspect of this work was also interesting. We generated several ideas for features, explored them, and at times found counter-intuitive insights as to what features were more or less associated with the target variable."
   ]
  },
  {
   "cell_type": "markdown",
   "metadata": {},
   "source": [
    "#### 7.3 Improvement potential"
   ]
  },
  {
   "cell_type": "markdown",
   "metadata": {},
   "source": [
    "There are multiple next steps we might pursue to refine this model further. \n",
    "\n",
    "First of all, additional features might be identified and built, beyond those we used here. For example, we might look at the duration of user sessions.\n",
    "\n",
    "Second, further model types might be tested. While we reached a high performance level with a random forest model, other options might be even more performant. \n",
    "\n",
    "Next, we might extend the approach to other user activities. For example, perhaps we might look for a predictor of customers downgrading, which also has large economic implications.\n",
    "\n",
    "Lastly, we could look to train a model on a larger dataset. This exploration provides a basis for doing this, and ultimately we might look to re-create this in a more scalable environment in the cloud to process large data sets and make use of Spark's full capabilities."
   ]
  }
 ],
 "metadata": {
  "kernelspec": {
   "display_name": "Python 3",
   "language": "python",
   "name": "python3"
  },
  "language_info": {
   "codemirror_mode": {
    "name": "ipython",
    "version": 3
   },
   "file_extension": ".py",
   "mimetype": "text/x-python",
   "name": "python",
   "nbconvert_exporter": "python",
   "pygments_lexer": "ipython3",
   "version": "3.6.8"
  }
 },
 "nbformat": 4,
 "nbformat_minor": 2
}
